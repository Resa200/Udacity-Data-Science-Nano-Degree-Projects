{
 "cells": [
  {
   "cell_type": "markdown",
   "metadata": {
    "extensions": {
     "jupyter_dashboards": {
      "version": 1,
      "views": {
       "grid_default": {
        "col": 0,
        "height": 4,
        "hidden": false,
        "row": 0,
        "width": 4
       },
       "report_default": {
        "hidden": false
       }
      }
     }
    }
   },
   "source": [
    "# Project: Wrangling and Analyze Data"
   ]
  },
  {
   "cell_type": "markdown",
   "metadata": {},
   "source": [
    "### Introduction\n",
    "\n",
    "Real-world data rarely comes clean. Using Python and its libraries, I will gather data from a variety of sources and in a variety of formats, assess its quality and tidiness, then clean it. This is called data wrangling. \n",
    "The dataset to be wrangled (and analyzed and visualized) is the tweet archive of Twitter user @dog_rates, also known as WeRateDogs. WeRateDogs is a Twitter account that rates people's dogs with a humorous comment about the dog. These ratings almost always have a denominator of 10. The numerators, though? Almost always greater than 10. 11/10, 12/10, 13/10, etc. Why? Because \"they're good dogs Brent.\" WeRateDogs has over 4 million followers and has received international media coverage.\n",
    "\n",
    "#### The Data\n",
    "\n",
    "##### Enhanced Twitter Archive:\n",
    "Udacity provided this data which contains basic tweet data for all 5000+ of the WeRateDogs tweets, but not everything. One column the archive does contain though: each tweet's text, which was used to extract rating, dog name, and dog \"stage\" (i.e. doggo, floofer, pupper, and puppo) to make this Twitter archive \"enhanced.\" Of the 5000+ tweets, Udacity has filtered for tweets with ratings only (there are 2356).\n",
    "\n",
    "##### Additional Data via the Twitter API\n",
    "retweet count and favorite count are two of the notable column omissions. Fortunately, this additional data can be gathered by anyone from Twitter's API. Well, \"anyone\" who has access to data for the 3000 most recent tweets, at least.I didn't get access to to developer account so I used a json file provided by Udacity for this project.\n",
    "\n",
    "##### Image Predictions File\n",
    "Udacity provided an image predictions file which is the end result of running every image in the WeRateDogs Twitter archive through a neural network that can classify breeds of dogs*. The results: a table full of image predictions (the top three only) alongside each tweet ID, image URL, and the image number that corresponded to the most confident prediction (numbered 1 to 4 since tweets can have up to four images)."
   ]
  },
  {
   "cell_type": "code",
   "execution_count": 1,
   "metadata": {},
   "outputs": [],
   "source": [
    "#importing necessary libraries \n",
    "import warnings\n",
    "warnings.filterwarnings(\"ignore\")\n",
    "\n",
    "%matplotlib inline\n",
    "import pandas as pd\n",
    "import numpy as np\n",
    "import requests\n",
    "import re\n",
    "import matplotlib.pyplot as plt\n",
    "import seaborn as sns\n",
    "sns.set(rc = {'figure.figsize':(15,8)})"
   ]
  },
  {
   "cell_type": "markdown",
   "metadata": {},
   "source": [
    "## Data Gathering\n",
    "In this section, the three data sets to be used for this project is gathered using various methods.\n",
    "\n",
    "1. Directly downloading the WeRateDogs Twitter archive data (twitter_archive_enhanced.csv)"
   ]
  },
  {
   "cell_type": "code",
   "execution_count": 2,
   "metadata": {
    "extensions": {
     "jupyter_dashboards": {
      "version": 1,
      "views": {
       "grid_default": {
        "hidden": true
       },
       "report_default": {
        "hidden": true
       }
      }
     }
    }
   },
   "outputs": [],
   "source": [
    "#Loading the dataset \n",
    "twitter_archive=pd.read_csv(\"twitter-archive-enhanced.csv\")"
   ]
  },
  {
   "cell_type": "code",
   "execution_count": 3,
   "metadata": {},
   "outputs": [
    {
     "data": {
      "text/html": [
       "<div>\n",
       "<style scoped>\n",
       "    .dataframe tbody tr th:only-of-type {\n",
       "        vertical-align: middle;\n",
       "    }\n",
       "\n",
       "    .dataframe tbody tr th {\n",
       "        vertical-align: top;\n",
       "    }\n",
       "\n",
       "    .dataframe thead th {\n",
       "        text-align: right;\n",
       "    }\n",
       "</style>\n",
       "<table border=\"1\" class=\"dataframe\">\n",
       "  <thead>\n",
       "    <tr style=\"text-align: right;\">\n",
       "      <th></th>\n",
       "      <th>tweet_id</th>\n",
       "      <th>in_reply_to_status_id</th>\n",
       "      <th>in_reply_to_user_id</th>\n",
       "      <th>timestamp</th>\n",
       "      <th>source</th>\n",
       "      <th>text</th>\n",
       "      <th>retweeted_status_id</th>\n",
       "      <th>retweeted_status_user_id</th>\n",
       "      <th>retweeted_status_timestamp</th>\n",
       "      <th>expanded_urls</th>\n",
       "      <th>rating_numerator</th>\n",
       "      <th>rating_denominator</th>\n",
       "      <th>name</th>\n",
       "      <th>doggo</th>\n",
       "      <th>floofer</th>\n",
       "      <th>pupper</th>\n",
       "      <th>puppo</th>\n",
       "    </tr>\n",
       "  </thead>\n",
       "  <tbody>\n",
       "    <tr>\n",
       "      <th>908</th>\n",
       "      <td>757729163776290825</td>\n",
       "      <td>NaN</td>\n",
       "      <td>NaN</td>\n",
       "      <td>2016-07-26 00:08:05 +0000</td>\n",
       "      <td>&lt;a href=\"http://twitter.com/download/iphone\" r...</td>\n",
       "      <td>RT @dog_rates: This is Chompsky. He lives up t...</td>\n",
       "      <td>6.790626e+17</td>\n",
       "      <td>4.196984e+09</td>\n",
       "      <td>2015-12-21 22:15:18 +0000</td>\n",
       "      <td>https://twitter.com/dog_rates/status/679062614...</td>\n",
       "      <td>11</td>\n",
       "      <td>10</td>\n",
       "      <td>Chompsky</td>\n",
       "      <td>None</td>\n",
       "      <td>None</td>\n",
       "      <td>None</td>\n",
       "      <td>None</td>\n",
       "    </tr>\n",
       "    <tr>\n",
       "      <th>1574</th>\n",
       "      <td>687480748861947905</td>\n",
       "      <td>NaN</td>\n",
       "      <td>NaN</td>\n",
       "      <td>2016-01-14 03:45:57 +0000</td>\n",
       "      <td>&lt;a href=\"http://twitter.com/download/iphone\" r...</td>\n",
       "      <td>Another magnificent photo. 12/10 https://t.co/...</td>\n",
       "      <td>NaN</td>\n",
       "      <td>NaN</td>\n",
       "      <td>NaN</td>\n",
       "      <td>https://twitter.com/dog_rates/status/687480748...</td>\n",
       "      <td>12</td>\n",
       "      <td>10</td>\n",
       "      <td>None</td>\n",
       "      <td>None</td>\n",
       "      <td>None</td>\n",
       "      <td>None</td>\n",
       "      <td>None</td>\n",
       "    </tr>\n",
       "    <tr>\n",
       "      <th>639</th>\n",
       "      <td>793256262322548741</td>\n",
       "      <td>NaN</td>\n",
       "      <td>NaN</td>\n",
       "      <td>2016-11-01 01:00:05 +0000</td>\n",
       "      <td>&lt;a href=\"http://twitter.com/download/iphone\" r...</td>\n",
       "      <td>Oh h*ck look at this spookling right here. Fri...</td>\n",
       "      <td>NaN</td>\n",
       "      <td>NaN</td>\n",
       "      <td>NaN</td>\n",
       "      <td>https://twitter.com/dog_rates/status/793256262...</td>\n",
       "      <td>12</td>\n",
       "      <td>10</td>\n",
       "      <td>None</td>\n",
       "      <td>None</td>\n",
       "      <td>None</td>\n",
       "      <td>None</td>\n",
       "      <td>None</td>\n",
       "    </tr>\n",
       "    <tr>\n",
       "      <th>164</th>\n",
       "      <td>860184849394610176</td>\n",
       "      <td>NaN</td>\n",
       "      <td>NaN</td>\n",
       "      <td>2017-05-04 17:30:24 +0000</td>\n",
       "      <td>&lt;a href=\"http://twitter.com/download/iphone\" r...</td>\n",
       "      <td>Here we have perhaps the wisest dog of all. Ab...</td>\n",
       "      <td>NaN</td>\n",
       "      <td>NaN</td>\n",
       "      <td>NaN</td>\n",
       "      <td>https://twitter.com/dog_rates/status/860184849...</td>\n",
       "      <td>14</td>\n",
       "      <td>10</td>\n",
       "      <td>None</td>\n",
       "      <td>None</td>\n",
       "      <td>None</td>\n",
       "      <td>None</td>\n",
       "      <td>None</td>\n",
       "    </tr>\n",
       "    <tr>\n",
       "      <th>1259</th>\n",
       "      <td>710272297844797440</td>\n",
       "      <td>NaN</td>\n",
       "      <td>NaN</td>\n",
       "      <td>2016-03-17 01:11:26 +0000</td>\n",
       "      <td>&lt;a href=\"http://twitter.com/download/iphone\" r...</td>\n",
       "      <td>We 👏🏻 only 👏🏻 rate 👏🏻 dogs. Pls stop sending i...</td>\n",
       "      <td>NaN</td>\n",
       "      <td>NaN</td>\n",
       "      <td>NaN</td>\n",
       "      <td>https://twitter.com/dog_rates/status/710272297...</td>\n",
       "      <td>11</td>\n",
       "      <td>10</td>\n",
       "      <td>infuriating</td>\n",
       "      <td>None</td>\n",
       "      <td>None</td>\n",
       "      <td>None</td>\n",
       "      <td>None</td>\n",
       "    </tr>\n",
       "  </tbody>\n",
       "</table>\n",
       "</div>"
      ],
      "text/plain": [
       "                tweet_id  in_reply_to_status_id  in_reply_to_user_id  \\\n",
       "908   757729163776290825                    NaN                  NaN   \n",
       "1574  687480748861947905                    NaN                  NaN   \n",
       "639   793256262322548741                    NaN                  NaN   \n",
       "164   860184849394610176                    NaN                  NaN   \n",
       "1259  710272297844797440                    NaN                  NaN   \n",
       "\n",
       "                      timestamp  \\\n",
       "908   2016-07-26 00:08:05 +0000   \n",
       "1574  2016-01-14 03:45:57 +0000   \n",
       "639   2016-11-01 01:00:05 +0000   \n",
       "164   2017-05-04 17:30:24 +0000   \n",
       "1259  2016-03-17 01:11:26 +0000   \n",
       "\n",
       "                                                 source  \\\n",
       "908   <a href=\"http://twitter.com/download/iphone\" r...   \n",
       "1574  <a href=\"http://twitter.com/download/iphone\" r...   \n",
       "639   <a href=\"http://twitter.com/download/iphone\" r...   \n",
       "164   <a href=\"http://twitter.com/download/iphone\" r...   \n",
       "1259  <a href=\"http://twitter.com/download/iphone\" r...   \n",
       "\n",
       "                                                   text  retweeted_status_id  \\\n",
       "908   RT @dog_rates: This is Chompsky. He lives up t...         6.790626e+17   \n",
       "1574  Another magnificent photo. 12/10 https://t.co/...                  NaN   \n",
       "639   Oh h*ck look at this spookling right here. Fri...                  NaN   \n",
       "164   Here we have perhaps the wisest dog of all. Ab...                  NaN   \n",
       "1259  We 👏🏻 only 👏🏻 rate 👏🏻 dogs. Pls stop sending i...                  NaN   \n",
       "\n",
       "      retweeted_status_user_id retweeted_status_timestamp  \\\n",
       "908               4.196984e+09  2015-12-21 22:15:18 +0000   \n",
       "1574                       NaN                        NaN   \n",
       "639                        NaN                        NaN   \n",
       "164                        NaN                        NaN   \n",
       "1259                       NaN                        NaN   \n",
       "\n",
       "                                          expanded_urls  rating_numerator  \\\n",
       "908   https://twitter.com/dog_rates/status/679062614...                11   \n",
       "1574  https://twitter.com/dog_rates/status/687480748...                12   \n",
       "639   https://twitter.com/dog_rates/status/793256262...                12   \n",
       "164   https://twitter.com/dog_rates/status/860184849...                14   \n",
       "1259  https://twitter.com/dog_rates/status/710272297...                11   \n",
       "\n",
       "      rating_denominator         name doggo floofer pupper puppo  \n",
       "908                   10     Chompsky  None    None   None  None  \n",
       "1574                  10         None  None    None   None  None  \n",
       "639                   10         None  None    None   None  None  \n",
       "164                   10         None  None    None   None  None  \n",
       "1259                  10  infuriating  None    None   None  None  "
      ]
     },
     "execution_count": 3,
     "metadata": {},
     "output_type": "execute_result"
    }
   ],
   "source": [
    "\n",
    "twitter_archive.sample(5)"
   ]
  },
  {
   "cell_type": "markdown",
   "metadata": {},
   "source": [
    "2. Using the Requests library to download the tweet image prediction (image_predictions.tsv)"
   ]
  },
  {
   "cell_type": "code",
   "execution_count": 4,
   "metadata": {
    "scrolled": false
   },
   "outputs": [
    {
     "name": "stdout",
     "output_type": "stream",
     "text": [
      "200\n"
     ]
    }
   ],
   "source": [
    "url='https://d17h27t6h515a5.cloudfront.net/topher/2017/August/599fd2ad_image-predictions/image-predictions.tsv'\n",
    "response=requests.get(url, auth=('user', 'pass'))\n",
    "\n",
    "print(response.status_code)\n"
   ]
  },
  {
   "cell_type": "code",
   "execution_count": 5,
   "metadata": {},
   "outputs": [
    {
     "data": {
      "text/plain": [
       "335079"
      ]
     },
     "execution_count": 5,
     "metadata": {},
     "output_type": "execute_result"
    }
   ],
   "source": [
    "open(\"image_predictions.tsv\", \"wb\").write(response.content)"
   ]
  },
  {
   "cell_type": "code",
   "execution_count": 6,
   "metadata": {},
   "outputs": [
    {
     "data": {
      "text/html": [
       "<div>\n",
       "<style scoped>\n",
       "    .dataframe tbody tr th:only-of-type {\n",
       "        vertical-align: middle;\n",
       "    }\n",
       "\n",
       "    .dataframe tbody tr th {\n",
       "        vertical-align: top;\n",
       "    }\n",
       "\n",
       "    .dataframe thead th {\n",
       "        text-align: right;\n",
       "    }\n",
       "</style>\n",
       "<table border=\"1\" class=\"dataframe\">\n",
       "  <thead>\n",
       "    <tr style=\"text-align: right;\">\n",
       "      <th></th>\n",
       "      <th>tweet_id</th>\n",
       "      <th>jpg_url</th>\n",
       "      <th>img_num</th>\n",
       "      <th>p1</th>\n",
       "      <th>p1_conf</th>\n",
       "      <th>p1_dog</th>\n",
       "      <th>p2</th>\n",
       "      <th>p2_conf</th>\n",
       "      <th>p2_dog</th>\n",
       "      <th>p3</th>\n",
       "      <th>p3_conf</th>\n",
       "      <th>p3_dog</th>\n",
       "    </tr>\n",
       "  </thead>\n",
       "  <tbody>\n",
       "    <tr>\n",
       "      <th>1367</th>\n",
       "      <td>761745352076779520</td>\n",
       "      <td>https://pbs.twimg.com/media/CpJDWqhW8AAFt45.jpg</td>\n",
       "      <td>1</td>\n",
       "      <td>paddle</td>\n",
       "      <td>0.393118</td>\n",
       "      <td>False</td>\n",
       "      <td>canoe</td>\n",
       "      <td>0.178088</td>\n",
       "      <td>False</td>\n",
       "      <td>lakeside</td>\n",
       "      <td>0.099713</td>\n",
       "      <td>False</td>\n",
       "    </tr>\n",
       "    <tr>\n",
       "      <th>1822</th>\n",
       "      <td>834786237630337024</td>\n",
       "      <td>https://pbs.twimg.com/media/C5XBp19WYAA5a_v.jpg</td>\n",
       "      <td>1</td>\n",
       "      <td>Border_terrier</td>\n",
       "      <td>0.156276</td>\n",
       "      <td>True</td>\n",
       "      <td>Norwegian_elkhound</td>\n",
       "      <td>0.125912</td>\n",
       "      <td>True</td>\n",
       "      <td>Boston_bull</td>\n",
       "      <td>0.096624</td>\n",
       "      <td>True</td>\n",
       "    </tr>\n",
       "    <tr>\n",
       "      <th>1782</th>\n",
       "      <td>828770345708580865</td>\n",
       "      <td>https://pbs.twimg.com/media/C4BiOXOXAAAf6IS.jpg</td>\n",
       "      <td>1</td>\n",
       "      <td>seat_belt</td>\n",
       "      <td>0.765979</td>\n",
       "      <td>False</td>\n",
       "      <td>Chesapeake_Bay_retriever</td>\n",
       "      <td>0.033899</td>\n",
       "      <td>True</td>\n",
       "      <td>polecat</td>\n",
       "      <td>0.027252</td>\n",
       "      <td>False</td>\n",
       "    </tr>\n",
       "    <tr>\n",
       "      <th>1787</th>\n",
       "      <td>829501995190984704</td>\n",
       "      <td>https://pbs.twimg.com/media/C4L7p19W8AA3Fs_.jpg</td>\n",
       "      <td>1</td>\n",
       "      <td>French_bulldog</td>\n",
       "      <td>0.950851</td>\n",
       "      <td>True</td>\n",
       "      <td>Pekinese</td>\n",
       "      <td>0.015200</td>\n",
       "      <td>True</td>\n",
       "      <td>pug</td>\n",
       "      <td>0.011094</td>\n",
       "      <td>True</td>\n",
       "    </tr>\n",
       "    <tr>\n",
       "      <th>1908</th>\n",
       "      <td>852672615818899456</td>\n",
       "      <td>https://pbs.twimg.com/media/C9VNNp1XkAEWRFb.jpg</td>\n",
       "      <td>1</td>\n",
       "      <td>golden_retriever</td>\n",
       "      <td>0.711235</td>\n",
       "      <td>True</td>\n",
       "      <td>otterhound</td>\n",
       "      <td>0.068235</td>\n",
       "      <td>True</td>\n",
       "      <td>Sussex_spaniel</td>\n",
       "      <td>0.046562</td>\n",
       "      <td>True</td>\n",
       "    </tr>\n",
       "    <tr>\n",
       "      <th>890</th>\n",
       "      <td>699323444782047232</td>\n",
       "      <td>https://pbs.twimg.com/media/CbR-9edXIAEHJKi.jpg</td>\n",
       "      <td>1</td>\n",
       "      <td>Labrador_retriever</td>\n",
       "      <td>0.309696</td>\n",
       "      <td>True</td>\n",
       "      <td>doormat</td>\n",
       "      <td>0.303700</td>\n",
       "      <td>False</td>\n",
       "      <td>sliding_door</td>\n",
       "      <td>0.077266</td>\n",
       "      <td>False</td>\n",
       "    </tr>\n",
       "    <tr>\n",
       "      <th>1900</th>\n",
       "      <td>851464819735769094</td>\n",
       "      <td>https://pbs.twimg.com/media/C9ECujZXsAAPCSM.jpg</td>\n",
       "      <td>2</td>\n",
       "      <td>web_site</td>\n",
       "      <td>0.919649</td>\n",
       "      <td>False</td>\n",
       "      <td>menu</td>\n",
       "      <td>0.026306</td>\n",
       "      <td>False</td>\n",
       "      <td>crossword_puzzle</td>\n",
       "      <td>0.003482</td>\n",
       "      <td>False</td>\n",
       "    </tr>\n",
       "    <tr>\n",
       "      <th>819</th>\n",
       "      <td>692905862751522816</td>\n",
       "      <td>https://pbs.twimg.com/media/CZ2yNKhWEAA_7cb.jpg</td>\n",
       "      <td>1</td>\n",
       "      <td>Mexican_hairless</td>\n",
       "      <td>0.162638</td>\n",
       "      <td>True</td>\n",
       "      <td>Doberman</td>\n",
       "      <td>0.156287</td>\n",
       "      <td>True</td>\n",
       "      <td>Rhodesian_ridgeback</td>\n",
       "      <td>0.081478</td>\n",
       "      <td>True</td>\n",
       "    </tr>\n",
       "    <tr>\n",
       "      <th>54</th>\n",
       "      <td>667044094246576128</td>\n",
       "      <td>https://pbs.twimg.com/media/CUHREBXXAAE6A9b.jpg</td>\n",
       "      <td>1</td>\n",
       "      <td>golden_retriever</td>\n",
       "      <td>0.765266</td>\n",
       "      <td>True</td>\n",
       "      <td>Labrador_retriever</td>\n",
       "      <td>0.206694</td>\n",
       "      <td>True</td>\n",
       "      <td>seat_belt</td>\n",
       "      <td>0.010667</td>\n",
       "      <td>False</td>\n",
       "    </tr>\n",
       "    <tr>\n",
       "      <th>1086</th>\n",
       "      <td>718631497683582976</td>\n",
       "      <td>https://pbs.twimg.com/media/CfkXiX6W4AAmICF.jpg</td>\n",
       "      <td>1</td>\n",
       "      <td>Pomeranian</td>\n",
       "      <td>0.993718</td>\n",
       "      <td>True</td>\n",
       "      <td>Pekinese</td>\n",
       "      <td>0.003611</td>\n",
       "      <td>True</td>\n",
       "      <td>Persian_cat</td>\n",
       "      <td>0.000525</td>\n",
       "      <td>False</td>\n",
       "    </tr>\n",
       "  </tbody>\n",
       "</table>\n",
       "</div>"
      ],
      "text/plain": [
       "                tweet_id                                          jpg_url  \\\n",
       "1367  761745352076779520  https://pbs.twimg.com/media/CpJDWqhW8AAFt45.jpg   \n",
       "1822  834786237630337024  https://pbs.twimg.com/media/C5XBp19WYAA5a_v.jpg   \n",
       "1782  828770345708580865  https://pbs.twimg.com/media/C4BiOXOXAAAf6IS.jpg   \n",
       "1787  829501995190984704  https://pbs.twimg.com/media/C4L7p19W8AA3Fs_.jpg   \n",
       "1908  852672615818899456  https://pbs.twimg.com/media/C9VNNp1XkAEWRFb.jpg   \n",
       "890   699323444782047232  https://pbs.twimg.com/media/CbR-9edXIAEHJKi.jpg   \n",
       "1900  851464819735769094  https://pbs.twimg.com/media/C9ECujZXsAAPCSM.jpg   \n",
       "819   692905862751522816  https://pbs.twimg.com/media/CZ2yNKhWEAA_7cb.jpg   \n",
       "54    667044094246576128  https://pbs.twimg.com/media/CUHREBXXAAE6A9b.jpg   \n",
       "1086  718631497683582976  https://pbs.twimg.com/media/CfkXiX6W4AAmICF.jpg   \n",
       "\n",
       "      img_num                  p1   p1_conf  p1_dog                        p2  \\\n",
       "1367        1              paddle  0.393118   False                     canoe   \n",
       "1822        1      Border_terrier  0.156276    True        Norwegian_elkhound   \n",
       "1782        1           seat_belt  0.765979   False  Chesapeake_Bay_retriever   \n",
       "1787        1      French_bulldog  0.950851    True                  Pekinese   \n",
       "1908        1    golden_retriever  0.711235    True                otterhound   \n",
       "890         1  Labrador_retriever  0.309696    True                   doormat   \n",
       "1900        2            web_site  0.919649   False                      menu   \n",
       "819         1    Mexican_hairless  0.162638    True                  Doberman   \n",
       "54          1    golden_retriever  0.765266    True        Labrador_retriever   \n",
       "1086        1          Pomeranian  0.993718    True                  Pekinese   \n",
       "\n",
       "       p2_conf  p2_dog                   p3   p3_conf  p3_dog  \n",
       "1367  0.178088   False             lakeside  0.099713   False  \n",
       "1822  0.125912    True          Boston_bull  0.096624    True  \n",
       "1782  0.033899    True              polecat  0.027252   False  \n",
       "1787  0.015200    True                  pug  0.011094    True  \n",
       "1908  0.068235    True       Sussex_spaniel  0.046562    True  \n",
       "890   0.303700   False         sliding_door  0.077266   False  \n",
       "1900  0.026306   False     crossword_puzzle  0.003482   False  \n",
       "819   0.156287    True  Rhodesian_ridgeback  0.081478    True  \n",
       "54    0.206694    True            seat_belt  0.010667   False  \n",
       "1086  0.003611    True          Persian_cat  0.000525   False  "
      ]
     },
     "execution_count": 6,
     "metadata": {},
     "output_type": "execute_result"
    }
   ],
   "source": [
    "image_predictions=pd.read_csv('image_predictions.tsv',sep='\\t')\n",
    "image_predictions.sample(10)"
   ]
  },
  {
   "cell_type": "markdown",
   "metadata": {},
   "source": [
    "3. Using the Tweepy library to query additional data via the Twitter API (tweet_json.txt)"
   ]
  },
  {
   "cell_type": "code",
   "execution_count": null,
   "metadata": {},
   "outputs": [],
   "source": [
    "import tweepy\n",
    "from tweepy import OAuthHandler\n",
    "import json\n",
    "from timeit import default_timer as timer\n",
    "\n",
    "# Query Twitter API for each tweet in the Twitter archive and save JSON in a text file\n",
    "# These are hidden to comply with Twitter's API terms and conditions\n",
    "consumer_key = 'HIDDEN'\n",
    "consumer_secret = 'HIDDEN'\n",
    "access_token = 'HIDDEN'\n",
    "access_secret = 'HIDDEN'\n",
    "\n",
    "auth = OAuthHandler(consumer_key, consumer_secret)\n",
    "auth.set_access_token(access_token, access_secret)\n",
    "\n",
    "api = tweepy.API(auth, wait_on_rate_limit=True)\n",
    "\n",
    "# NOTE TO STUDENT WITH MOBILE VERIFICATION ISSUES:\n",
    "# df_1 is a DataFrame with the twitter_archive_enhanced.csv file. You may have to\n",
    "# change line 17 to match the name of your DataFrame with twitter_archive_enhanced.csv\n",
    "# NOTE TO REVIEWER: this student had mobile verification issues so the following\n",
    "# Twitter API code was sent to this student from a Udacity instructor\n",
    "# Tweet IDs for which to gather additional data via Twitter's API\n",
    "tweet_ids = twitter_archive.tweet_id.values\n",
    "len(tweet_ids)\n",
    "\n",
    "# Query Twitter's API for JSON data for each tweet ID in the Twitter archive\n",
    "count = 0\n",
    "fails_dict = {}\n",
    "start = timer()\n",
    "# Save each tweet's returned JSON as a new line in a .txt file\n",
    "with open('tweet_json.txt', 'w') as outfile:\n",
    "    # This loop will likely take 20-30 minutes to run because of Twitter's rate limit\n",
    "    for tweet_id in tweet_ids:\n",
    "        count += 1\n",
    "        print(str(count) + \": \" + str(tweet_id))\n",
    "        try:\n",
    "            tweet = api.get_status(tweet_id, tweet_mode='extended')\n",
    "            #print(\"Success\")\n",
    "            json.dump(tweet._json, outfile)\n",
    "            outfile.write('\\n')\n",
    "        except tweepy.errors.TweepyException as e:\n",
    "            #print(\"Fail\")\n",
    "            fails_dict[tweet_id] = e\n",
    "            pass\n",
    "end = timer()\n",
    "print(end - start)\n",
    "print(fails_dict)"
   ]
  },
  {
   "cell_type": "code",
   "execution_count": 7,
   "metadata": {},
   "outputs": [],
   "source": [
    "import json\n",
    "\n",
    "tweets = []\n",
    "for tweet in open('tweet-json.txt', 'r'):\n",
    "    tweets.append(json.loads(tweet))"
   ]
  },
  {
   "cell_type": "code",
   "execution_count": 8,
   "metadata": {},
   "outputs": [],
   "source": [
    "tweet_json = pd.DataFrame().from_dict(tweets).set_index('created_at')"
   ]
  },
  {
   "cell_type": "code",
   "execution_count": 9,
   "metadata": {},
   "outputs": [
    {
     "data": {
      "text/html": [
       "<div>\n",
       "<style scoped>\n",
       "    .dataframe tbody tr th:only-of-type {\n",
       "        vertical-align: middle;\n",
       "    }\n",
       "\n",
       "    .dataframe tbody tr th {\n",
       "        vertical-align: top;\n",
       "    }\n",
       "\n",
       "    .dataframe thead th {\n",
       "        text-align: right;\n",
       "    }\n",
       "</style>\n",
       "<table border=\"1\" class=\"dataframe\">\n",
       "  <thead>\n",
       "    <tr style=\"text-align: right;\">\n",
       "      <th></th>\n",
       "      <th>id</th>\n",
       "      <th>id_str</th>\n",
       "      <th>full_text</th>\n",
       "      <th>truncated</th>\n",
       "      <th>display_text_range</th>\n",
       "      <th>entities</th>\n",
       "      <th>extended_entities</th>\n",
       "      <th>source</th>\n",
       "      <th>in_reply_to_status_id</th>\n",
       "      <th>in_reply_to_status_id_str</th>\n",
       "      <th>...</th>\n",
       "      <th>favorite_count</th>\n",
       "      <th>favorited</th>\n",
       "      <th>retweeted</th>\n",
       "      <th>possibly_sensitive</th>\n",
       "      <th>possibly_sensitive_appealable</th>\n",
       "      <th>lang</th>\n",
       "      <th>retweeted_status</th>\n",
       "      <th>quoted_status_id</th>\n",
       "      <th>quoted_status_id_str</th>\n",
       "      <th>quoted_status</th>\n",
       "    </tr>\n",
       "    <tr>\n",
       "      <th>created_at</th>\n",
       "      <th></th>\n",
       "      <th></th>\n",
       "      <th></th>\n",
       "      <th></th>\n",
       "      <th></th>\n",
       "      <th></th>\n",
       "      <th></th>\n",
       "      <th></th>\n",
       "      <th></th>\n",
       "      <th></th>\n",
       "      <th></th>\n",
       "      <th></th>\n",
       "      <th></th>\n",
       "      <th></th>\n",
       "      <th></th>\n",
       "      <th></th>\n",
       "      <th></th>\n",
       "      <th></th>\n",
       "      <th></th>\n",
       "      <th></th>\n",
       "      <th></th>\n",
       "    </tr>\n",
       "  </thead>\n",
       "  <tbody>\n",
       "    <tr>\n",
       "      <th>Wed Oct 12 03:50:17 +0000 2016</th>\n",
       "      <td>786051337297522688</td>\n",
       "      <td>786051337297522688</td>\n",
       "      <td>13/10 for breakdancing puppo @shibbnbot</td>\n",
       "      <td>False</td>\n",
       "      <td>[0, 39]</td>\n",
       "      <td>{'hashtags': [], 'symbols': [], 'user_mentions...</td>\n",
       "      <td>NaN</td>\n",
       "      <td>&lt;a href=\"http://twitter.com/download/iphone\" r...</td>\n",
       "      <td>7.727430e+17</td>\n",
       "      <td>772743019447607296</td>\n",
       "      <td>...</td>\n",
       "      <td>1614</td>\n",
       "      <td>False</td>\n",
       "      <td>False</td>\n",
       "      <td>NaN</td>\n",
       "      <td>NaN</td>\n",
       "      <td>en</td>\n",
       "      <td>NaN</td>\n",
       "      <td>NaN</td>\n",
       "      <td>NaN</td>\n",
       "      <td>NaN</td>\n",
       "    </tr>\n",
       "    <tr>\n",
       "      <th>Thu Jun 09 19:52:53 +0000 2016</th>\n",
       "      <td>740995100998766593</td>\n",
       "      <td>740995100998766593</td>\n",
       "      <td>This is Leo. He's a vape god. Blows o's for da...</td>\n",
       "      <td>False</td>\n",
       "      <td>[0, 115]</td>\n",
       "      <td>{'hashtags': [], 'symbols': [], 'user_mentions...</td>\n",
       "      <td>{'media': [{'id': 740995091762794496, 'id_str'...</td>\n",
       "      <td>&lt;a href=\"http://twitter.com/download/iphone\" r...</td>\n",
       "      <td>NaN</td>\n",
       "      <td>None</td>\n",
       "      <td>...</td>\n",
       "      <td>7018</td>\n",
       "      <td>False</td>\n",
       "      <td>False</td>\n",
       "      <td>False</td>\n",
       "      <td>False</td>\n",
       "      <td>en</td>\n",
       "      <td>NaN</td>\n",
       "      <td>NaN</td>\n",
       "      <td>NaN</td>\n",
       "      <td>NaN</td>\n",
       "    </tr>\n",
       "    <tr>\n",
       "      <th>Sun Mar 05 01:36:26 +0000 2017</th>\n",
       "      <td>838201503651401729</td>\n",
       "      <td>838201503651401729</td>\n",
       "      <td>RT @dog_rates: Meet Sunny. He can take down a ...</td>\n",
       "      <td>False</td>\n",
       "      <td>[0, 140]</td>\n",
       "      <td>{'hashtags': [], 'symbols': [], 'user_mentions...</td>\n",
       "      <td>NaN</td>\n",
       "      <td>&lt;a href=\"http://twitter.com/download/iphone\" r...</td>\n",
       "      <td>NaN</td>\n",
       "      <td>None</td>\n",
       "      <td>...</td>\n",
       "      <td>0</td>\n",
       "      <td>False</td>\n",
       "      <td>False</td>\n",
       "      <td>NaN</td>\n",
       "      <td>NaN</td>\n",
       "      <td>en</td>\n",
       "      <td>{'created_at': 'Sun Jan 15 21:49:15 +0000 2017...</td>\n",
       "      <td>NaN</td>\n",
       "      <td>NaN</td>\n",
       "      <td>NaN</td>\n",
       "    </tr>\n",
       "    <tr>\n",
       "      <th>Fri Jan 29 15:36:45 +0000 2016</th>\n",
       "      <td>693095443459342336</td>\n",
       "      <td>693095443459342336</td>\n",
       "      <td>This is Milo. He doesn't understand your fancy...</td>\n",
       "      <td>False</td>\n",
       "      <td>[0, 134]</td>\n",
       "      <td>{'hashtags': [], 'symbols': [], 'user_mentions...</td>\n",
       "      <td>{'media': [{'id': 693095429051932672, 'id_str'...</td>\n",
       "      <td>&lt;a href=\"http://twitter.com/download/iphone\" r...</td>\n",
       "      <td>NaN</td>\n",
       "      <td>None</td>\n",
       "      <td>...</td>\n",
       "      <td>2056</td>\n",
       "      <td>False</td>\n",
       "      <td>False</td>\n",
       "      <td>False</td>\n",
       "      <td>False</td>\n",
       "      <td>en</td>\n",
       "      <td>NaN</td>\n",
       "      <td>NaN</td>\n",
       "      <td>NaN</td>\n",
       "      <td>NaN</td>\n",
       "    </tr>\n",
       "    <tr>\n",
       "      <th>Fri May 12 17:12:53 +0000 2017</th>\n",
       "      <td>863079547188785154</td>\n",
       "      <td>863079547188785154</td>\n",
       "      <td>Ladies and gentlemen... I found Pipsy. He may ...</td>\n",
       "      <td>False</td>\n",
       "      <td>[0, 139]</td>\n",
       "      <td>{'hashtags': [], 'symbols': [], 'user_mentions...</td>\n",
       "      <td>{'media': [{'id': 863079538779013120, 'id_str'...</td>\n",
       "      <td>&lt;a href=\"http://twitter.com/download/iphone\" r...</td>\n",
       "      <td>6.671522e+17</td>\n",
       "      <td>667152164079423490</td>\n",
       "      <td>...</td>\n",
       "      <td>9094</td>\n",
       "      <td>False</td>\n",
       "      <td>False</td>\n",
       "      <td>False</td>\n",
       "      <td>False</td>\n",
       "      <td>en</td>\n",
       "      <td>NaN</td>\n",
       "      <td>NaN</td>\n",
       "      <td>NaN</td>\n",
       "      <td>NaN</td>\n",
       "    </tr>\n",
       "  </tbody>\n",
       "</table>\n",
       "<p>5 rows × 30 columns</p>\n",
       "</div>"
      ],
      "text/plain": [
       "                                                id              id_str  \\\n",
       "created_at                                                               \n",
       "Wed Oct 12 03:50:17 +0000 2016  786051337297522688  786051337297522688   \n",
       "Thu Jun 09 19:52:53 +0000 2016  740995100998766593  740995100998766593   \n",
       "Sun Mar 05 01:36:26 +0000 2017  838201503651401729  838201503651401729   \n",
       "Fri Jan 29 15:36:45 +0000 2016  693095443459342336  693095443459342336   \n",
       "Fri May 12 17:12:53 +0000 2017  863079547188785154  863079547188785154   \n",
       "\n",
       "                                                                        full_text  \\\n",
       "created_at                                                                          \n",
       "Wed Oct 12 03:50:17 +0000 2016            13/10 for breakdancing puppo @shibbnbot   \n",
       "Thu Jun 09 19:52:53 +0000 2016  This is Leo. He's a vape god. Blows o's for da...   \n",
       "Sun Mar 05 01:36:26 +0000 2017  RT @dog_rates: Meet Sunny. He can take down a ...   \n",
       "Fri Jan 29 15:36:45 +0000 2016  This is Milo. He doesn't understand your fancy...   \n",
       "Fri May 12 17:12:53 +0000 2017  Ladies and gentlemen... I found Pipsy. He may ...   \n",
       "\n",
       "                                truncated display_text_range  \\\n",
       "created_at                                                     \n",
       "Wed Oct 12 03:50:17 +0000 2016      False            [0, 39]   \n",
       "Thu Jun 09 19:52:53 +0000 2016      False           [0, 115]   \n",
       "Sun Mar 05 01:36:26 +0000 2017      False           [0, 140]   \n",
       "Fri Jan 29 15:36:45 +0000 2016      False           [0, 134]   \n",
       "Fri May 12 17:12:53 +0000 2017      False           [0, 139]   \n",
       "\n",
       "                                                                         entities  \\\n",
       "created_at                                                                          \n",
       "Wed Oct 12 03:50:17 +0000 2016  {'hashtags': [], 'symbols': [], 'user_mentions...   \n",
       "Thu Jun 09 19:52:53 +0000 2016  {'hashtags': [], 'symbols': [], 'user_mentions...   \n",
       "Sun Mar 05 01:36:26 +0000 2017  {'hashtags': [], 'symbols': [], 'user_mentions...   \n",
       "Fri Jan 29 15:36:45 +0000 2016  {'hashtags': [], 'symbols': [], 'user_mentions...   \n",
       "Fri May 12 17:12:53 +0000 2017  {'hashtags': [], 'symbols': [], 'user_mentions...   \n",
       "\n",
       "                                                                extended_entities  \\\n",
       "created_at                                                                          \n",
       "Wed Oct 12 03:50:17 +0000 2016                                                NaN   \n",
       "Thu Jun 09 19:52:53 +0000 2016  {'media': [{'id': 740995091762794496, 'id_str'...   \n",
       "Sun Mar 05 01:36:26 +0000 2017                                                NaN   \n",
       "Fri Jan 29 15:36:45 +0000 2016  {'media': [{'id': 693095429051932672, 'id_str'...   \n",
       "Fri May 12 17:12:53 +0000 2017  {'media': [{'id': 863079538779013120, 'id_str'...   \n",
       "\n",
       "                                                                           source  \\\n",
       "created_at                                                                          \n",
       "Wed Oct 12 03:50:17 +0000 2016  <a href=\"http://twitter.com/download/iphone\" r...   \n",
       "Thu Jun 09 19:52:53 +0000 2016  <a href=\"http://twitter.com/download/iphone\" r...   \n",
       "Sun Mar 05 01:36:26 +0000 2017  <a href=\"http://twitter.com/download/iphone\" r...   \n",
       "Fri Jan 29 15:36:45 +0000 2016  <a href=\"http://twitter.com/download/iphone\" r...   \n",
       "Fri May 12 17:12:53 +0000 2017  <a href=\"http://twitter.com/download/iphone\" r...   \n",
       "\n",
       "                                in_reply_to_status_id  \\\n",
       "created_at                                              \n",
       "Wed Oct 12 03:50:17 +0000 2016           7.727430e+17   \n",
       "Thu Jun 09 19:52:53 +0000 2016                    NaN   \n",
       "Sun Mar 05 01:36:26 +0000 2017                    NaN   \n",
       "Fri Jan 29 15:36:45 +0000 2016                    NaN   \n",
       "Fri May 12 17:12:53 +0000 2017           6.671522e+17   \n",
       "\n",
       "                               in_reply_to_status_id_str  ...  favorite_count  \\\n",
       "created_at                                                ...                   \n",
       "Wed Oct 12 03:50:17 +0000 2016        772743019447607296  ...            1614   \n",
       "Thu Jun 09 19:52:53 +0000 2016                      None  ...            7018   \n",
       "Sun Mar 05 01:36:26 +0000 2017                      None  ...               0   \n",
       "Fri Jan 29 15:36:45 +0000 2016                      None  ...            2056   \n",
       "Fri May 12 17:12:53 +0000 2017        667152164079423490  ...            9094   \n",
       "\n",
       "                               favorited retweeted possibly_sensitive  \\\n",
       "created_at                                                              \n",
       "Wed Oct 12 03:50:17 +0000 2016     False     False                NaN   \n",
       "Thu Jun 09 19:52:53 +0000 2016     False     False              False   \n",
       "Sun Mar 05 01:36:26 +0000 2017     False     False                NaN   \n",
       "Fri Jan 29 15:36:45 +0000 2016     False     False              False   \n",
       "Fri May 12 17:12:53 +0000 2017     False     False              False   \n",
       "\n",
       "                               possibly_sensitive_appealable lang  \\\n",
       "created_at                                                          \n",
       "Wed Oct 12 03:50:17 +0000 2016                           NaN   en   \n",
       "Thu Jun 09 19:52:53 +0000 2016                         False   en   \n",
       "Sun Mar 05 01:36:26 +0000 2017                           NaN   en   \n",
       "Fri Jan 29 15:36:45 +0000 2016                         False   en   \n",
       "Fri May 12 17:12:53 +0000 2017                         False   en   \n",
       "\n",
       "                                                                 retweeted_status  \\\n",
       "created_at                                                                          \n",
       "Wed Oct 12 03:50:17 +0000 2016                                                NaN   \n",
       "Thu Jun 09 19:52:53 +0000 2016                                                NaN   \n",
       "Sun Mar 05 01:36:26 +0000 2017  {'created_at': 'Sun Jan 15 21:49:15 +0000 2017...   \n",
       "Fri Jan 29 15:36:45 +0000 2016                                                NaN   \n",
       "Fri May 12 17:12:53 +0000 2017                                                NaN   \n",
       "\n",
       "                               quoted_status_id  quoted_status_id_str  \\\n",
       "created_at                                                              \n",
       "Wed Oct 12 03:50:17 +0000 2016              NaN                   NaN   \n",
       "Thu Jun 09 19:52:53 +0000 2016              NaN                   NaN   \n",
       "Sun Mar 05 01:36:26 +0000 2017              NaN                   NaN   \n",
       "Fri Jan 29 15:36:45 +0000 2016              NaN                   NaN   \n",
       "Fri May 12 17:12:53 +0000 2017              NaN                   NaN   \n",
       "\n",
       "                                quoted_status  \n",
       "created_at                                     \n",
       "Wed Oct 12 03:50:17 +0000 2016            NaN  \n",
       "Thu Jun 09 19:52:53 +0000 2016            NaN  \n",
       "Sun Mar 05 01:36:26 +0000 2017            NaN  \n",
       "Fri Jan 29 15:36:45 +0000 2016            NaN  \n",
       "Fri May 12 17:12:53 +0000 2017            NaN  \n",
       "\n",
       "[5 rows x 30 columns]"
      ]
     },
     "execution_count": 9,
     "metadata": {},
     "output_type": "execute_result"
    }
   ],
   "source": [
    "tweet_json.sample(5)"
   ]
  },
  {
   "cell_type": "markdown",
   "metadata": {
    "extensions": {
     "jupyter_dashboards": {
      "version": 1,
      "views": {
       "grid_default": {
        "col": 4,
        "height": 4,
        "hidden": false,
        "row": 28,
        "width": 4
       },
       "report_default": {
        "hidden": false
       }
      }
     }
    }
   },
   "source": [
    "## Assessing Data\n",
    "In this section, the three loaded datasets will be assessed both visually and programmatically to detect quality and tidiness issues. \n",
    "At the end of this section, at least 8 data quality issues and two tidiness issues will be highlighted for cleaning.\n",
    "\n"
   ]
  },
  {
   "cell_type": "code",
   "execution_count": 10,
   "metadata": {},
   "outputs": [
    {
     "data": {
      "text/plain": [
       "(2356, 17)"
      ]
     },
     "execution_count": 10,
     "metadata": {},
     "output_type": "execute_result"
    }
   ],
   "source": [
    "\n",
    "twitter_archive.shape"
   ]
  },
  {
   "cell_type": "code",
   "execution_count": 11,
   "metadata": {},
   "outputs": [
    {
     "data": {
      "text/plain": [
       "(2075, 12)"
      ]
     },
     "execution_count": 11,
     "metadata": {},
     "output_type": "execute_result"
    }
   ],
   "source": [
    "image_predictions.shape"
   ]
  },
  {
   "cell_type": "code",
   "execution_count": 12,
   "metadata": {},
   "outputs": [
    {
     "data": {
      "text/plain": [
       "(2354, 30)"
      ]
     },
     "execution_count": 12,
     "metadata": {},
     "output_type": "execute_result"
    }
   ],
   "source": [
    "tweet_json.shape"
   ]
  },
  {
   "cell_type": "code",
   "execution_count": 13,
   "metadata": {},
   "outputs": [
    {
     "data": {
      "text/plain": [
       "0"
      ]
     },
     "execution_count": 13,
     "metadata": {},
     "output_type": "execute_result"
    }
   ],
   "source": [
    "#checking for duplicates\n",
    "twitter_archive.duplicated().sum()"
   ]
  },
  {
   "cell_type": "code",
   "execution_count": 14,
   "metadata": {},
   "outputs": [
    {
     "data": {
      "text/plain": [
       "0"
      ]
     },
     "execution_count": 14,
     "metadata": {},
     "output_type": "execute_result"
    }
   ],
   "source": [
    "image_predictions.duplicated().sum()"
   ]
  },
  {
   "cell_type": "code",
   "execution_count": 15,
   "metadata": {},
   "outputs": [
    {
     "name": "stdout",
     "output_type": "stream",
     "text": [
      "<class 'pandas.core.frame.DataFrame'>\n",
      "RangeIndex: 2356 entries, 0 to 2355\n",
      "Data columns (total 17 columns):\n",
      " #   Column                      Non-Null Count  Dtype  \n",
      "---  ------                      --------------  -----  \n",
      " 0   tweet_id                    2356 non-null   int64  \n",
      " 1   in_reply_to_status_id       78 non-null     float64\n",
      " 2   in_reply_to_user_id         78 non-null     float64\n",
      " 3   timestamp                   2356 non-null   object \n",
      " 4   source                      2356 non-null   object \n",
      " 5   text                        2356 non-null   object \n",
      " 6   retweeted_status_id         181 non-null    float64\n",
      " 7   retweeted_status_user_id    181 non-null    float64\n",
      " 8   retweeted_status_timestamp  181 non-null    object \n",
      " 9   expanded_urls               2297 non-null   object \n",
      " 10  rating_numerator            2356 non-null   int64  \n",
      " 11  rating_denominator          2356 non-null   int64  \n",
      " 12  name                        2356 non-null   object \n",
      " 13  doggo                       2356 non-null   object \n",
      " 14  floofer                     2356 non-null   object \n",
      " 15  pupper                      2356 non-null   object \n",
      " 16  puppo                       2356 non-null   object \n",
      "dtypes: float64(4), int64(3), object(10)\n",
      "memory usage: 313.0+ KB\n"
     ]
    }
   ],
   "source": [
    "#checking for data type and general info of data\n",
    "twitter_archive.info()"
   ]
  },
  {
   "cell_type": "code",
   "execution_count": 16,
   "metadata": {},
   "outputs": [
    {
     "name": "stdout",
     "output_type": "stream",
     "text": [
      "<class 'pandas.core.frame.DataFrame'>\n",
      "RangeIndex: 2075 entries, 0 to 2074\n",
      "Data columns (total 12 columns):\n",
      " #   Column    Non-Null Count  Dtype  \n",
      "---  ------    --------------  -----  \n",
      " 0   tweet_id  2075 non-null   int64  \n",
      " 1   jpg_url   2075 non-null   object \n",
      " 2   img_num   2075 non-null   int64  \n",
      " 3   p1        2075 non-null   object \n",
      " 4   p1_conf   2075 non-null   float64\n",
      " 5   p1_dog    2075 non-null   bool   \n",
      " 6   p2        2075 non-null   object \n",
      " 7   p2_conf   2075 non-null   float64\n",
      " 8   p2_dog    2075 non-null   bool   \n",
      " 9   p3        2075 non-null   object \n",
      " 10  p3_conf   2075 non-null   float64\n",
      " 11  p3_dog    2075 non-null   bool   \n",
      "dtypes: bool(3), float64(3), int64(2), object(4)\n",
      "memory usage: 152.1+ KB\n"
     ]
    }
   ],
   "source": [
    "image_predictions.info()"
   ]
  },
  {
   "cell_type": "code",
   "execution_count": 17,
   "metadata": {},
   "outputs": [
    {
     "name": "stdout",
     "output_type": "stream",
     "text": [
      "<class 'pandas.core.frame.DataFrame'>\n",
      "Index: 2354 entries, Tue Aug 01 16:23:56 +0000 2017 to Sun Nov 15 22:32:08 +0000 2015\n",
      "Data columns (total 30 columns):\n",
      " #   Column                         Non-Null Count  Dtype  \n",
      "---  ------                         --------------  -----  \n",
      " 0   id                             2354 non-null   int64  \n",
      " 1   id_str                         2354 non-null   object \n",
      " 2   full_text                      2354 non-null   object \n",
      " 3   truncated                      2354 non-null   bool   \n",
      " 4   display_text_range             2354 non-null   object \n",
      " 5   entities                       2354 non-null   object \n",
      " 6   extended_entities              2073 non-null   object \n",
      " 7   source                         2354 non-null   object \n",
      " 8   in_reply_to_status_id          78 non-null     float64\n",
      " 9   in_reply_to_status_id_str      78 non-null     object \n",
      " 10  in_reply_to_user_id            78 non-null     float64\n",
      " 11  in_reply_to_user_id_str        78 non-null     object \n",
      " 12  in_reply_to_screen_name        78 non-null     object \n",
      " 13  user                           2354 non-null   object \n",
      " 14  geo                            0 non-null      object \n",
      " 15  coordinates                    0 non-null      object \n",
      " 16  place                          1 non-null      object \n",
      " 17  contributors                   0 non-null      object \n",
      " 18  is_quote_status                2354 non-null   bool   \n",
      " 19  retweet_count                  2354 non-null   int64  \n",
      " 20  favorite_count                 2354 non-null   int64  \n",
      " 21  favorited                      2354 non-null   bool   \n",
      " 22  retweeted                      2354 non-null   bool   \n",
      " 23  possibly_sensitive             2211 non-null   object \n",
      " 24  possibly_sensitive_appealable  2211 non-null   object \n",
      " 25  lang                           2354 non-null   object \n",
      " 26  retweeted_status               179 non-null    object \n",
      " 27  quoted_status_id               29 non-null     float64\n",
      " 28  quoted_status_id_str           29 non-null     object \n",
      " 29  quoted_status                  28 non-null     object \n",
      "dtypes: bool(4), float64(3), int64(3), object(20)\n",
      "memory usage: 505.7+ KB\n"
     ]
    }
   ],
   "source": [
    "tweet_json.info()"
   ]
  },
  {
   "cell_type": "code",
   "execution_count": 18,
   "metadata": {},
   "outputs": [
    {
     "data": {
      "text/plain": [
       "tweet_id                       0.000000\n",
       "in_reply_to_status_id         96.689304\n",
       "in_reply_to_user_id           96.689304\n",
       "timestamp                      0.000000\n",
       "source                         0.000000\n",
       "text                           0.000000\n",
       "retweeted_status_id           92.317487\n",
       "retweeted_status_user_id      92.317487\n",
       "retweeted_status_timestamp    92.317487\n",
       "expanded_urls                  2.504244\n",
       "rating_numerator               0.000000\n",
       "rating_denominator             0.000000\n",
       "name                           0.000000\n",
       "doggo                          0.000000\n",
       "floofer                        0.000000\n",
       "pupper                         0.000000\n",
       "puppo                          0.000000\n",
       "dtype: float64"
      ]
     },
     "execution_count": 18,
     "metadata": {},
     "output_type": "execute_result"
    }
   ],
   "source": [
    "#checking for null values\n",
    "(twitter_archive.isnull().sum()/len(twitter_archive))*100"
   ]
  },
  {
   "cell_type": "code",
   "execution_count": 19,
   "metadata": {},
   "outputs": [
    {
     "data": {
      "text/plain": [
       "tweet_id    0.0\n",
       "jpg_url     0.0\n",
       "img_num     0.0\n",
       "p1          0.0\n",
       "p1_conf     0.0\n",
       "p1_dog      0.0\n",
       "p2          0.0\n",
       "p2_conf     0.0\n",
       "p2_dog      0.0\n",
       "p3          0.0\n",
       "p3_conf     0.0\n",
       "p3_dog      0.0\n",
       "dtype: float64"
      ]
     },
     "execution_count": 19,
     "metadata": {},
     "output_type": "execute_result"
    }
   ],
   "source": [
    "(image_predictions.isnull().sum()/len(image_predictions))*100"
   ]
  },
  {
   "cell_type": "code",
   "execution_count": 20,
   "metadata": {},
   "outputs": [
    {
     "data": {
      "text/plain": [
       "id                                 0.000000\n",
       "id_str                             0.000000\n",
       "full_text                          0.000000\n",
       "truncated                          0.000000\n",
       "display_text_range                 0.000000\n",
       "entities                           0.000000\n",
       "extended_entities                 11.937128\n",
       "source                             0.000000\n",
       "in_reply_to_status_id             96.686491\n",
       "in_reply_to_status_id_str         96.686491\n",
       "in_reply_to_user_id               96.686491\n",
       "in_reply_to_user_id_str           96.686491\n",
       "in_reply_to_screen_name           96.686491\n",
       "user                               0.000000\n",
       "geo                              100.000000\n",
       "coordinates                      100.000000\n",
       "place                             99.957519\n",
       "contributors                     100.000000\n",
       "is_quote_status                    0.000000\n",
       "retweet_count                      0.000000\n",
       "favorite_count                     0.000000\n",
       "favorited                          0.000000\n",
       "retweeted                          0.000000\n",
       "possibly_sensitive                 6.074766\n",
       "possibly_sensitive_appealable      6.074766\n",
       "lang                               0.000000\n",
       "retweeted_status                  92.395922\n",
       "quoted_status_id                  98.768054\n",
       "quoted_status_id_str              98.768054\n",
       "quoted_status                     98.810535\n",
       "dtype: float64"
      ]
     },
     "execution_count": 20,
     "metadata": {},
     "output_type": "execute_result"
    }
   ],
   "source": [
    "(tweet_json.isnull().sum()/len(tweet_json))*100 "
   ]
  },
  {
   "cell_type": "code",
   "execution_count": 21,
   "metadata": {},
   "outputs": [
    {
     "data": {
      "text/plain": [
       "{'tweet_id': 2356,\n",
       " 'in_reply_to_status_id': 77,\n",
       " 'in_reply_to_user_id': 31,\n",
       " 'timestamp': 2356,\n",
       " 'source': 4,\n",
       " 'text': 2356,\n",
       " 'retweeted_status_id': 181,\n",
       " 'retweeted_status_user_id': 25,\n",
       " 'retweeted_status_timestamp': 181,\n",
       " 'expanded_urls': 2218,\n",
       " 'rating_numerator': 40,\n",
       " 'rating_denominator': 18,\n",
       " 'name': 957,\n",
       " 'doggo': 2,\n",
       " 'floofer': 2,\n",
       " 'pupper': 2,\n",
       " 'puppo': 2}"
      ]
     },
     "execution_count": 21,
     "metadata": {},
     "output_type": "execute_result"
    }
   ],
   "source": [
    "#checking number of unique items per column\n",
    "twitter_archive_cols=['tweet_id', 'in_reply_to_status_id', 'in_reply_to_user_id', 'timestamp',\n",
    "       'source', 'text', 'retweeted_status_id', 'retweeted_status_user_id',\n",
    "       'retweeted_status_timestamp', 'expanded_urls', 'rating_numerator',\n",
    "       'rating_denominator', 'name', 'doggo', 'floofer', 'pupper', 'puppo']\n",
    "cols={}\n",
    "for col in twitter_archive_cols:\n",
    "    unique=twitter_archive[col].nunique()\n",
    "    cols[col]=unique\n",
    "    \n",
    "cols"
   ]
  },
  {
   "cell_type": "code",
   "execution_count": 22,
   "metadata": {},
   "outputs": [
    {
     "data": {
      "text/plain": [
       "{'tweet_id': 2075,\n",
       " 'jpg_url': 2009,\n",
       " 'img_num': 4,\n",
       " 'p1': 378,\n",
       " 'p1_conf': 2006,\n",
       " 'p1_dog': 2,\n",
       " 'p2': 405,\n",
       " 'p2_conf': 2004,\n",
       " 'p2_dog': 2,\n",
       " 'p3': 408,\n",
       " 'p3_conf': 2006,\n",
       " 'p3_dog': 2}"
      ]
     },
     "execution_count": 22,
     "metadata": {},
     "output_type": "execute_result"
    }
   ],
   "source": [
    "image_predictions_columns=['tweet_id','jpg_url',  'img_num', 'p1', 'p1_conf', 'p1_dog', 'p2',\n",
    "       'p2_conf', 'p2_dog', 'p3', 'p3_conf', 'p3_dog']\n",
    "\n",
    "cols={}\n",
    "for col in image_predictions_columns:\n",
    "    unique=image_predictions[col].nunique()\n",
    "    cols[col]=unique\n",
    "    \n",
    "cols"
   ]
  },
  {
   "cell_type": "code",
   "execution_count": 23,
   "metadata": {},
   "outputs": [
    {
     "data": {
      "text/plain": [
       "None       745\n",
       "a           55\n",
       "Charlie     12\n",
       "Cooper      11\n",
       "Lucy        11\n",
       "Oliver      11\n",
       "Tucker      10\n",
       "Penny       10\n",
       "Lola        10\n",
       "Winston      9\n",
       "Bo           9\n",
       "Sadie        8\n",
       "the          8\n",
       "Daisy        7\n",
       "Buddy        7\n",
       "Toby         7\n",
       "an           7\n",
       "Bailey       7\n",
       "Leo          6\n",
       "Oscar        6\n",
       "Name: name, dtype: int64"
      ]
     },
     "execution_count": 23,
     "metadata": {},
     "output_type": "execute_result"
    }
   ],
   "source": [
    "#programmatic assessment of the 'name' column\n",
    "twitter_archive['name'].value_counts().head(20)"
   ]
  },
  {
   "cell_type": "code",
   "execution_count": 24,
   "metadata": {},
   "outputs": [
    {
     "data": {
      "text/plain": [
       "10     2333\n",
       "11        3\n",
       "50        3\n",
       "20        2\n",
       "80        2\n",
       "70        1\n",
       "7         1\n",
       "15        1\n",
       "150       1\n",
       "170       1\n",
       "0         1\n",
       "90        1\n",
       "40        1\n",
       "130       1\n",
       "110       1\n",
       "16        1\n",
       "120       1\n",
       "2         1\n",
       "Name: rating_denominator, dtype: int64"
      ]
     },
     "execution_count": 24,
     "metadata": {},
     "output_type": "execute_result"
    }
   ],
   "source": [
    "#checking for consistency of rating_denominators\n",
    "twitter_archive['rating_denominator'].value_counts()"
   ]
  },
  {
   "cell_type": "code",
   "execution_count": 25,
   "metadata": {},
   "outputs": [
    {
     "data": {
      "text/plain": [
       "181"
      ]
     },
     "execution_count": 25,
     "metadata": {},
     "output_type": "execute_result"
    }
   ],
   "source": [
    "#checking for retweets\n",
    "twitter_archive[twitter_archive.retweeted_status_id.isnull()==False].shape[0]"
   ]
  },
  {
   "cell_type": "code",
   "execution_count": 26,
   "metadata": {},
   "outputs": [
    {
     "data": {
      "text/plain": [
       "78"
      ]
     },
     "execution_count": 26,
     "metadata": {},
     "output_type": "execute_result"
    }
   ],
   "source": [
    "#checking for tweet replies\n",
    "twitter_archive[twitter_archive.in_reply_to_status_id.isnull()==False].shape[0]"
   ]
  },
  {
   "cell_type": "code",
   "execution_count": 27,
   "metadata": {},
   "outputs": [
    {
     "data": {
      "text/plain": [
       "78"
      ]
     },
     "execution_count": 27,
     "metadata": {},
     "output_type": "execute_result"
    }
   ],
   "source": [
    "tweet_json[tweet_json.in_reply_to_status_id.isnull()==False].shape[0]"
   ]
  },
  {
   "cell_type": "code",
   "execution_count": 28,
   "metadata": {},
   "outputs": [
    {
     "data": {
      "text/plain": [
       "29"
      ]
     },
     "execution_count": 28,
     "metadata": {},
     "output_type": "execute_result"
    }
   ],
   "source": [
    "tweet_json[tweet_json.quoted_status_id.isnull()==False].shape[0]"
   ]
  },
  {
   "cell_type": "code",
   "execution_count": 29,
   "metadata": {},
   "outputs": [
    {
     "data": {
      "text/plain": [
       "(324, 12)"
      ]
     },
     "execution_count": 29,
     "metadata": {},
     "output_type": "execute_result"
    }
   ],
   "source": [
    "#checking for unneccessary predictions \n",
    "image_predictions.query('p1_dog==False and p2_dog==False and p3_dog==False').shape"
   ]
  },
  {
   "cell_type": "markdown",
   "metadata": {},
   "source": [
    "### Quality issues\n",
    "\n",
    "Wrong Data Type(validity)\n",
    ">1. Twitter archive table contains several columns such as 'timestamp' and 'tweet_id','in_reply_status_id','retweeted_status_id',etc with wrong data type.\n",
    "\n",
    ">2. Image_prediction table 'tweet_id' column has a wrong data type.\n",
    "\n",
    ">3. tweet_json table contains several columns such as 'retweet_count','tweet_id','in_reply_status_id','retweeted_status_id',etc with wrong data type.\n",
    "\n",
    "Un-original tweets(consistency)\n",
    ">4. Twitter_archive table contains tweets that are retweets, tweets that are quoted tweets and tweets that are reply to other tweets.\n",
    "\n",
    ">5. Tweet_json table contains tweets that are retweets, tweets that are quoted tweets and tweets that are reply to other tweets.\n",
    "\n",
    "Nulls(completeness)\n",
    ">6. Too many redundant columns such as 'geo','coordinates',etc containing more than 90% null values\n",
    "\n",
    "Accuracy\n",
    ">7. 'name' column in the twitter_archive table contains 'a','an' and 'the' for dogs with no names\n",
    "\n",
    ">8. innacurate rating_numerator and rating_denominator columns in the twitter_archive table\n"
   ]
  },
  {
   "cell_type": "markdown",
   "metadata": {
    "extensions": {
     "jupyter_dashboards": {
      "version": 1,
      "views": {
       "grid_default": {
        "col": 0,
        "height": 7,
        "hidden": false,
        "row": 40,
        "width": 12
       },
       "report_default": {
        "hidden": false
       }
      }
     }
    }
   },
   "source": [
    "### Tidiness issues\n",
    "1.retweet_count,favorite_count from tweet_json table and dog image predictions from image_predictions table should be part of the twitter_archive table\n",
    "\n",
    "2.twitter_archive table contains categories of dogs by size split across three columns\n",
    "\n",
    "3.Source device is part of the source column embedded in a link"
   ]
  },
  {
   "cell_type": "markdown",
   "metadata": {
    "extensions": {
     "jupyter_dashboards": {
      "version": 1,
      "views": {
       "grid_default": {
        "col": 4,
        "height": 4,
        "hidden": false,
        "row": 32,
        "width": 4
       },
       "report_default": {
        "hidden": false
       }
      }
     }
    }
   },
   "source": [
    "## Cleaning Data\n",
    "In this section,  **all** of the issues documented while assessing will be cleaned. \n",
    "\n"
   ]
  },
  {
   "cell_type": "code",
   "execution_count": 30,
   "metadata": {},
   "outputs": [],
   "source": [
    "# Make copies of original pieces of data\n",
    "twitter_archiveCopy=twitter_archive.copy()\n",
    "image_predictionsCopy=image_predictions.copy()\n",
    "tweet_jsonCopy=tweet_json.copy()"
   ]
  },
  {
   "cell_type": "markdown",
   "metadata": {},
   "source": [
    "A look at the quality issues shows how the three tables or dataset are similar in terms of issues with its data\n",
    "\n",
    "To simplify cleaning in this project, the tidiness issues are tackled first as it contains merging the three tables together and then the quality issues are tackled one after the other by category."
   ]
  },
  {
   "cell_type": "markdown",
   "metadata": {},
   "source": [
    "### Tidiness"
   ]
  },
  {
   "cell_type": "markdown",
   "metadata": {},
   "source": [
    "### Issue #1: retweet_count ,favorite_count , dog image predictions should be part of the twitter_archive table"
   ]
  },
  {
   "cell_type": "markdown",
   "metadata": {},
   "source": [
    "#### Define: \n",
    "Merge the twitter_archive and tweet_json tables on tweet id as twitter_merged table,\n",
    "\n",
    "Merge image_predictions table and twitter_merged table as twitter_archive_master"
   ]
  },
  {
   "cell_type": "markdown",
   "metadata": {},
   "source": [
    "#### Code"
   ]
  },
  {
   "cell_type": "code",
   "execution_count": 31,
   "metadata": {},
   "outputs": [],
   "source": [
    "\n",
    "tweet_jsonCopy.rename(columns={'id':'tweet_id'},inplace=True)"
   ]
  },
  {
   "cell_type": "code",
   "execution_count": 32,
   "metadata": {},
   "outputs": [
    {
     "data": {
      "text/plain": [
       "(2354, 43)"
      ]
     },
     "execution_count": 32,
     "metadata": {},
     "output_type": "execute_result"
    }
   ],
   "source": [
    "twitter_merged= twitter_archiveCopy.merge(tweet_jsonCopy, on=['tweet_id','in_reply_to_status_id','in_reply_to_user_id','source'],how='inner')\n",
    "twitter_merged.shape"
   ]
  },
  {
   "cell_type": "code",
   "execution_count": 33,
   "metadata": {},
   "outputs": [
    {
     "data": {
      "text/plain": [
       "(2073, 54)"
      ]
     },
     "execution_count": 33,
     "metadata": {},
     "output_type": "execute_result"
    }
   ],
   "source": [
    "twitter_archive_master=twitter_merged.merge(image_predictionsCopy,how=\"inner\",on=\"tweet_id\")\n",
    "twitter_archive_master.shape"
   ]
  },
  {
   "cell_type": "markdown",
   "metadata": {},
   "source": [
    "#### Test"
   ]
  },
  {
   "cell_type": "code",
   "execution_count": 34,
   "metadata": {
    "scrolled": true
   },
   "outputs": [
    {
     "data": {
      "text/html": [
       "<div>\n",
       "<style scoped>\n",
       "    .dataframe tbody tr th:only-of-type {\n",
       "        vertical-align: middle;\n",
       "    }\n",
       "\n",
       "    .dataframe tbody tr th {\n",
       "        vertical-align: top;\n",
       "    }\n",
       "\n",
       "    .dataframe thead th {\n",
       "        text-align: right;\n",
       "    }\n",
       "</style>\n",
       "<table border=\"1\" class=\"dataframe\">\n",
       "  <thead>\n",
       "    <tr style=\"text-align: right;\">\n",
       "      <th></th>\n",
       "      <th>tweet_id</th>\n",
       "      <th>in_reply_to_status_id</th>\n",
       "      <th>in_reply_to_user_id</th>\n",
       "      <th>timestamp</th>\n",
       "      <th>source</th>\n",
       "      <th>text</th>\n",
       "      <th>retweeted_status_id</th>\n",
       "      <th>retweeted_status_user_id</th>\n",
       "      <th>retweeted_status_timestamp</th>\n",
       "      <th>expanded_urls</th>\n",
       "      <th>...</th>\n",
       "      <th>img_num</th>\n",
       "      <th>p1</th>\n",
       "      <th>p1_conf</th>\n",
       "      <th>p1_dog</th>\n",
       "      <th>p2</th>\n",
       "      <th>p2_conf</th>\n",
       "      <th>p2_dog</th>\n",
       "      <th>p3</th>\n",
       "      <th>p3_conf</th>\n",
       "      <th>p3_dog</th>\n",
       "    </tr>\n",
       "  </thead>\n",
       "  <tbody>\n",
       "    <tr>\n",
       "      <th>2023</th>\n",
       "      <td>666835007768551424</td>\n",
       "      <td>NaN</td>\n",
       "      <td>NaN</td>\n",
       "      <td>2015-11-18 04:27:09 +0000</td>\n",
       "      <td>&lt;a href=\"http://twitter.com/download/iphone\" r...</td>\n",
       "      <td>These are Peruvian Feldspars. Their names are ...</td>\n",
       "      <td>NaN</td>\n",
       "      <td>NaN</td>\n",
       "      <td>NaN</td>\n",
       "      <td>https://twitter.com/dog_rates/status/666835007...</td>\n",
       "      <td>...</td>\n",
       "      <td>1</td>\n",
       "      <td>Airedale</td>\n",
       "      <td>0.448459</td>\n",
       "      <td>True</td>\n",
       "      <td>toy_poodle</td>\n",
       "      <td>0.12403</td>\n",
       "      <td>True</td>\n",
       "      <td>teddy</td>\n",
       "      <td>0.110183</td>\n",
       "      <td>False</td>\n",
       "    </tr>\n",
       "  </tbody>\n",
       "</table>\n",
       "<p>1 rows × 54 columns</p>\n",
       "</div>"
      ],
      "text/plain": [
       "                tweet_id  in_reply_to_status_id  in_reply_to_user_id  \\\n",
       "2023  666835007768551424                    NaN                  NaN   \n",
       "\n",
       "                      timestamp  \\\n",
       "2023  2015-11-18 04:27:09 +0000   \n",
       "\n",
       "                                                 source  \\\n",
       "2023  <a href=\"http://twitter.com/download/iphone\" r...   \n",
       "\n",
       "                                                   text  retweeted_status_id  \\\n",
       "2023  These are Peruvian Feldspars. Their names are ...                  NaN   \n",
       "\n",
       "      retweeted_status_user_id retweeted_status_timestamp  \\\n",
       "2023                       NaN                        NaN   \n",
       "\n",
       "                                          expanded_urls  ...  img_num  \\\n",
       "2023  https://twitter.com/dog_rates/status/666835007...  ...        1   \n",
       "\n",
       "            p1   p1_conf p1_dog          p2  p2_conf p2_dog     p3   p3_conf  \\\n",
       "2023  Airedale  0.448459   True  toy_poodle  0.12403   True  teddy  0.110183   \n",
       "\n",
       "      p3_dog  \n",
       "2023   False  \n",
       "\n",
       "[1 rows x 54 columns]"
      ]
     },
     "execution_count": 34,
     "metadata": {},
     "output_type": "execute_result"
    }
   ],
   "source": [
    "twitter_archive_master.sample()"
   ]
  },
  {
   "cell_type": "markdown",
   "metadata": {},
   "source": [
    "### Tidiness Issue #2: twitter_archive table contains categories of dogs by size split across three columns"
   ]
  },
  {
   "cell_type": "markdown",
   "metadata": {
    "collapsed": true,
    "extensions": {
     "jupyter_dashboards": {
      "version": 1,
      "views": {
       "grid_default": {
        "hidden": true
       },
       "report_default": {
        "hidden": true
       }
      }
     }
    }
   },
   "source": [
    "#### Define\n",
    "Extracting the dog stage from the text column and dropping 'doggo', 'floofer', 'pupper' and 'puppo' columns ."
   ]
  },
  {
   "cell_type": "markdown",
   "metadata": {},
   "source": [
    "#### Code"
   ]
  },
  {
   "cell_type": "code",
   "execution_count": 35,
   "metadata": {},
   "outputs": [],
   "source": [
    "#twitter_archive_master['stage']=None\n",
    "twitter_archive_master['stage'] = twitter_archive_master.doggo + twitter_archive_master.floofer + twitter_archive_master.pupper + twitter_archive_master.puppo"
   ]
  },
  {
   "cell_type": "code",
   "execution_count": 36,
   "metadata": {},
   "outputs": [
    {
     "data": {
      "text/plain": [
       "NoneNoneNoneNone        1753\n",
       "NoneNonepupperNone       210\n",
       "doggoNoneNoneNone         67\n",
       "NoneNoneNonepuppo         23\n",
       "doggoNonepupperNone       11\n",
       "NoneflooferNoneNone        7\n",
       "doggoNoneNonepuppo         1\n",
       "doggoflooferNoneNone       1\n",
       "Name: stage, dtype: int64"
      ]
     },
     "execution_count": 36,
     "metadata": {},
     "output_type": "execute_result"
    }
   ],
   "source": [
    "twitter_archive_master.stage.value_counts()"
   ]
  },
  {
   "cell_type": "code",
   "execution_count": 37,
   "metadata": {},
   "outputs": [],
   "source": [
    "\n",
    "stages=[]\n",
    "for stage in twitter_archive_master.stage:\n",
    "    clean_stage=stage.replace(\"None\",\"\")\n",
    "    if len(clean_stage)>7:\n",
    "        clean_stage=\"multiple\"\n",
    "    elif len(clean_stage)<1:\n",
    "        clean_stage=\"None\"\n",
    "    stages.append(clean_stage)\n",
    "    \n",
    "twitter_archive_master['stage']=stages"
   ]
  },
  {
   "cell_type": "code",
   "execution_count": 38,
   "metadata": {},
   "outputs": [],
   "source": [
    "twitter_archive_master.drop(columns=['doggo', 'floofer', 'pupper', 'puppo'],inplace=True)"
   ]
  },
  {
   "cell_type": "markdown",
   "metadata": {},
   "source": [
    "#### Test"
   ]
  },
  {
   "cell_type": "code",
   "execution_count": 39,
   "metadata": {},
   "outputs": [
    {
     "data": {
      "text/html": [
       "<div>\n",
       "<style scoped>\n",
       "    .dataframe tbody tr th:only-of-type {\n",
       "        vertical-align: middle;\n",
       "    }\n",
       "\n",
       "    .dataframe tbody tr th {\n",
       "        vertical-align: top;\n",
       "    }\n",
       "\n",
       "    .dataframe thead th {\n",
       "        text-align: right;\n",
       "    }\n",
       "</style>\n",
       "<table border=\"1\" class=\"dataframe\">\n",
       "  <thead>\n",
       "    <tr style=\"text-align: right;\">\n",
       "      <th></th>\n",
       "      <th>tweet_id</th>\n",
       "      <th>in_reply_to_status_id</th>\n",
       "      <th>in_reply_to_user_id</th>\n",
       "      <th>timestamp</th>\n",
       "      <th>source</th>\n",
       "      <th>text</th>\n",
       "      <th>retweeted_status_id</th>\n",
       "      <th>retweeted_status_user_id</th>\n",
       "      <th>retweeted_status_timestamp</th>\n",
       "      <th>expanded_urls</th>\n",
       "      <th>...</th>\n",
       "      <th>p1</th>\n",
       "      <th>p1_conf</th>\n",
       "      <th>p1_dog</th>\n",
       "      <th>p2</th>\n",
       "      <th>p2_conf</th>\n",
       "      <th>p2_dog</th>\n",
       "      <th>p3</th>\n",
       "      <th>p3_conf</th>\n",
       "      <th>p3_dog</th>\n",
       "      <th>stage</th>\n",
       "    </tr>\n",
       "  </thead>\n",
       "  <tbody>\n",
       "    <tr>\n",
       "      <th>1621</th>\n",
       "      <td>674743008475090944</td>\n",
       "      <td>NaN</td>\n",
       "      <td>NaN</td>\n",
       "      <td>2015-12-10 00:10:43 +0000</td>\n",
       "      <td>&lt;a href=\"http://twitter.com/download/iphone\" r...</td>\n",
       "      <td>This is Sophie. She just saw a spider. 10/10 d...</td>\n",
       "      <td>NaN</td>\n",
       "      <td>NaN</td>\n",
       "      <td>NaN</td>\n",
       "      <td>https://twitter.com/dog_rates/status/674743008...</td>\n",
       "      <td>...</td>\n",
       "      <td>Bernese_mountain_dog</td>\n",
       "      <td>0.583054</td>\n",
       "      <td>True</td>\n",
       "      <td>Shetland_sheepdog</td>\n",
       "      <td>0.06599</td>\n",
       "      <td>True</td>\n",
       "      <td>Greater_Swiss_Mountain_dog</td>\n",
       "      <td>0.065236</td>\n",
       "      <td>True</td>\n",
       "      <td>None</td>\n",
       "    </tr>\n",
       "  </tbody>\n",
       "</table>\n",
       "<p>1 rows × 51 columns</p>\n",
       "</div>"
      ],
      "text/plain": [
       "                tweet_id  in_reply_to_status_id  in_reply_to_user_id  \\\n",
       "1621  674743008475090944                    NaN                  NaN   \n",
       "\n",
       "                      timestamp  \\\n",
       "1621  2015-12-10 00:10:43 +0000   \n",
       "\n",
       "                                                 source  \\\n",
       "1621  <a href=\"http://twitter.com/download/iphone\" r...   \n",
       "\n",
       "                                                   text  retweeted_status_id  \\\n",
       "1621  This is Sophie. She just saw a spider. 10/10 d...                  NaN   \n",
       "\n",
       "      retweeted_status_user_id retweeted_status_timestamp  \\\n",
       "1621                       NaN                        NaN   \n",
       "\n",
       "                                          expanded_urls  ...  \\\n",
       "1621  https://twitter.com/dog_rates/status/674743008...  ...   \n",
       "\n",
       "                        p1   p1_conf p1_dog                 p2  p2_conf  \\\n",
       "1621  Bernese_mountain_dog  0.583054   True  Shetland_sheepdog  0.06599   \n",
       "\n",
       "      p2_dog                          p3   p3_conf p3_dog stage  \n",
       "1621    True  Greater_Swiss_Mountain_dog  0.065236   True  None  \n",
       "\n",
       "[1 rows x 51 columns]"
      ]
     },
     "execution_count": 39,
     "metadata": {},
     "output_type": "execute_result"
    }
   ],
   "source": [
    "twitter_archive_master.sample()"
   ]
  },
  {
   "cell_type": "markdown",
   "metadata": {},
   "source": [
    "### Tidiness Issue #3: Source device is part of the source column embedded in a link"
   ]
  },
  {
   "cell_type": "markdown",
   "metadata": {
    "collapsed": true,
    "extensions": {
     "jupyter_dashboards": {
      "version": 1,
      "views": {
       "grid_default": {
        "hidden": true
       },
       "report_default": {
        "hidden": true
       }
      }
     }
    }
   },
   "source": [
    "#### Define\n",
    "Extracting the source_device of tweet from the source column and renaming it as source_device using Beautiful Soup."
   ]
  },
  {
   "cell_type": "markdown",
   "metadata": {},
   "source": [
    "#### Code"
   ]
  },
  {
   "cell_type": "code",
   "execution_count": 40,
   "metadata": {},
   "outputs": [],
   "source": [
    "from bs4 import BeautifulSoup \n",
    "\n",
    "source_device = []\n",
    "\n",
    "for x,y in twitter_archive_master.iterrows():\n",
    "    soup = BeautifulSoup(y.source)\n",
    "    device = soup.find('a').contents[0]\n",
    "    source_device.append(device)\n",
    "    \n",
    "twitter_archive_master['source_device']=source_device"
   ]
  },
  {
   "cell_type": "markdown",
   "metadata": {},
   "source": [
    "#### Test"
   ]
  },
  {
   "cell_type": "code",
   "execution_count": 41,
   "metadata": {},
   "outputs": [
    {
     "data": {
      "text/html": [
       "<div>\n",
       "<style scoped>\n",
       "    .dataframe tbody tr th:only-of-type {\n",
       "        vertical-align: middle;\n",
       "    }\n",
       "\n",
       "    .dataframe tbody tr th {\n",
       "        vertical-align: top;\n",
       "    }\n",
       "\n",
       "    .dataframe thead th {\n",
       "        text-align: right;\n",
       "    }\n",
       "</style>\n",
       "<table border=\"1\" class=\"dataframe\">\n",
       "  <thead>\n",
       "    <tr style=\"text-align: right;\">\n",
       "      <th></th>\n",
       "      <th>tweet_id</th>\n",
       "      <th>in_reply_to_status_id</th>\n",
       "      <th>in_reply_to_user_id</th>\n",
       "      <th>timestamp</th>\n",
       "      <th>source</th>\n",
       "      <th>text</th>\n",
       "      <th>retweeted_status_id</th>\n",
       "      <th>retweeted_status_user_id</th>\n",
       "      <th>retweeted_status_timestamp</th>\n",
       "      <th>expanded_urls</th>\n",
       "      <th>...</th>\n",
       "      <th>p1_conf</th>\n",
       "      <th>p1_dog</th>\n",
       "      <th>p2</th>\n",
       "      <th>p2_conf</th>\n",
       "      <th>p2_dog</th>\n",
       "      <th>p3</th>\n",
       "      <th>p3_conf</th>\n",
       "      <th>p3_dog</th>\n",
       "      <th>stage</th>\n",
       "      <th>source_device</th>\n",
       "    </tr>\n",
       "  </thead>\n",
       "  <tbody>\n",
       "    <tr>\n",
       "      <th>488</th>\n",
       "      <td>797545162159308800</td>\n",
       "      <td>NaN</td>\n",
       "      <td>NaN</td>\n",
       "      <td>2016-11-12 21:02:38 +0000</td>\n",
       "      <td>&lt;a href=\"http://twitter.com/download/iphone\" r...</td>\n",
       "      <td>This is Cassie. She steals things. Guilt incre...</td>\n",
       "      <td>NaN</td>\n",
       "      <td>NaN</td>\n",
       "      <td>NaN</td>\n",
       "      <td>https://twitter.com/dog_rates/status/797545162...</td>\n",
       "      <td>...</td>\n",
       "      <td>0.954089</td>\n",
       "      <td>True</td>\n",
       "      <td>Cardigan</td>\n",
       "      <td>0.033644</td>\n",
       "      <td>True</td>\n",
       "      <td>papillon</td>\n",
       "      <td>0.009736</td>\n",
       "      <td>True</td>\n",
       "      <td>None</td>\n",
       "      <td>Twitter for iPhone</td>\n",
       "    </tr>\n",
       "  </tbody>\n",
       "</table>\n",
       "<p>1 rows × 52 columns</p>\n",
       "</div>"
      ],
      "text/plain": [
       "               tweet_id  in_reply_to_status_id  in_reply_to_user_id  \\\n",
       "488  797545162159308800                    NaN                  NaN   \n",
       "\n",
       "                     timestamp  \\\n",
       "488  2016-11-12 21:02:38 +0000   \n",
       "\n",
       "                                                source  \\\n",
       "488  <a href=\"http://twitter.com/download/iphone\" r...   \n",
       "\n",
       "                                                  text  retweeted_status_id  \\\n",
       "488  This is Cassie. She steals things. Guilt incre...                  NaN   \n",
       "\n",
       "     retweeted_status_user_id retweeted_status_timestamp  \\\n",
       "488                       NaN                        NaN   \n",
       "\n",
       "                                         expanded_urls  ...   p1_conf  p1_dog  \\\n",
       "488  https://twitter.com/dog_rates/status/797545162...  ...  0.954089    True   \n",
       "\n",
       "           p2   p2_conf p2_dog        p3   p3_conf p3_dog stage  \\\n",
       "488  Cardigan  0.033644   True  papillon  0.009736   True  None   \n",
       "\n",
       "          source_device  \n",
       "488  Twitter for iPhone  \n",
       "\n",
       "[1 rows x 52 columns]"
      ]
     },
     "execution_count": 41,
     "metadata": {},
     "output_type": "execute_result"
    }
   ],
   "source": [
    "twitter_archive_master.sample()"
   ]
  },
  {
   "cell_type": "markdown",
   "metadata": {},
   "source": [
    "### Quality"
   ]
  },
  {
   "cell_type": "markdown",
   "metadata": {},
   "source": [
    "### Category #1: Wrong Data Type(Validity)"
   ]
  },
  {
   "cell_type": "markdown",
   "metadata": {},
   "source": [
    "#### Define: \n",
    "Change the data type of columns with wrong data type"
   ]
  },
  {
   "cell_type": "markdown",
   "metadata": {},
   "source": [
    "#### Code"
   ]
  },
  {
   "cell_type": "code",
   "execution_count": 42,
   "metadata": {},
   "outputs": [],
   "source": [
    "for col in twitter_archive_master.columns:\n",
    "    if \"id\" in col:\n",
    "        twitter_archive_master[col]=twitter_archive_master[col].astype('object')\n",
    "    elif \"timestamp\" in col:\n",
    "        twitter_archive_master[col]=twitter_archive_master[col].astype('datetime64')\n",
    "    elif \"count\" in col:\n",
    "        twitter_archive_master[col]=twitter_archive_master[col].astype('int64')"
   ]
  },
  {
   "cell_type": "markdown",
   "metadata": {},
   "source": [
    "#### Test"
   ]
  },
  {
   "cell_type": "code",
   "execution_count": 43,
   "metadata": {},
   "outputs": [
    {
     "name": "stdout",
     "output_type": "stream",
     "text": [
      "<class 'pandas.core.frame.DataFrame'>\n",
      "Int64Index: 2073 entries, 0 to 2072\n",
      "Data columns (total 52 columns):\n",
      " #   Column                         Non-Null Count  Dtype         \n",
      "---  ------                         --------------  -----         \n",
      " 0   tweet_id                       2073 non-null   object        \n",
      " 1   in_reply_to_status_id          23 non-null     object        \n",
      " 2   in_reply_to_user_id            23 non-null     object        \n",
      " 3   timestamp                      2073 non-null   datetime64[ns]\n",
      " 4   source                         2073 non-null   object        \n",
      " 5   text                           2073 non-null   object        \n",
      " 6   retweeted_status_id            79 non-null     object        \n",
      " 7   retweeted_status_user_id       79 non-null     object        \n",
      " 8   retweeted_status_timestamp     79 non-null     datetime64[ns]\n",
      " 9   expanded_urls                  2073 non-null   object        \n",
      " 10  rating_numerator               2073 non-null   int64         \n",
      " 11  rating_denominator             2073 non-null   int64         \n",
      " 12  name                           2073 non-null   object        \n",
      " 13  id_str                         2073 non-null   object        \n",
      " 14  full_text                      2073 non-null   object        \n",
      " 15  truncated                      2073 non-null   bool          \n",
      " 16  display_text_range             2073 non-null   object        \n",
      " 17  entities                       2073 non-null   object        \n",
      " 18  extended_entities              2073 non-null   object        \n",
      " 19  in_reply_to_status_id_str      23 non-null     object        \n",
      " 20  in_reply_to_user_id_str        23 non-null     object        \n",
      " 21  in_reply_to_screen_name        23 non-null     object        \n",
      " 22  user                           2073 non-null   object        \n",
      " 23  geo                            0 non-null      object        \n",
      " 24  coordinates                    0 non-null      object        \n",
      " 25  place                          1 non-null      object        \n",
      " 26  contributors                   0 non-null      object        \n",
      " 27  is_quote_status                2073 non-null   bool          \n",
      " 28  retweet_count                  2073 non-null   int64         \n",
      " 29  favorite_count                 2073 non-null   int64         \n",
      " 30  favorited                      2073 non-null   bool          \n",
      " 31  retweeted                      2073 non-null   bool          \n",
      " 32  possibly_sensitive             2073 non-null   object        \n",
      " 33  possibly_sensitive_appealable  2073 non-null   object        \n",
      " 34  lang                           2073 non-null   object        \n",
      " 35  retweeted_status               79 non-null     object        \n",
      " 36  quoted_status_id               0 non-null      object        \n",
      " 37  quoted_status_id_str           0 non-null      object        \n",
      " 38  quoted_status                  0 non-null      object        \n",
      " 39  jpg_url                        2073 non-null   object        \n",
      " 40  img_num                        2073 non-null   int64         \n",
      " 41  p1                             2073 non-null   object        \n",
      " 42  p1_conf                        2073 non-null   float64       \n",
      " 43  p1_dog                         2073 non-null   bool          \n",
      " 44  p2                             2073 non-null   object        \n",
      " 45  p2_conf                        2073 non-null   float64       \n",
      " 46  p2_dog                         2073 non-null   bool          \n",
      " 47  p3                             2073 non-null   object        \n",
      " 48  p3_conf                        2073 non-null   float64       \n",
      " 49  p3_dog                         2073 non-null   bool          \n",
      " 50  stage                          2073 non-null   object        \n",
      " 51  source_device                  2073 non-null   object        \n",
      "dtypes: bool(7), datetime64[ns](2), float64(3), int64(5), object(35)\n",
      "memory usage: 759.2+ KB\n"
     ]
    }
   ],
   "source": [
    "twitter_archive_master.info()"
   ]
  },
  {
   "cell_type": "markdown",
   "metadata": {},
   "source": [
    "### Category #2: Unoriginal tweets(Consistency)"
   ]
  },
  {
   "cell_type": "markdown",
   "metadata": {},
   "source": [
    "##### Removing retweets from dataset"
   ]
  },
  {
   "cell_type": "markdown",
   "metadata": {
    "collapsed": true,
    "extensions": {
     "jupyter_dashboards": {
      "version": 1,
      "views": {
       "grid_default": {
        "hidden": true
       },
       "report_default": {
        "hidden": true
       }
      }
     }
    }
   },
   "source": [
    "#### Define\n",
    "Finding the index of rows with 'retweeted_status_id' not null and removing such rows as they are not original tweets."
   ]
  },
  {
   "cell_type": "markdown",
   "metadata": {},
   "source": [
    "#### Code"
   ]
  },
  {
   "cell_type": "code",
   "execution_count": 44,
   "metadata": {},
   "outputs": [],
   "source": [
    "def drop_unoriginal(column):\n",
    "    unoriginal_index=twitter_archive_master[twitter_archive_master[column].isnull()==False].index\n",
    "    twitter_archive_master.drop(unoriginal_index,axis=0,inplace=True)\n",
    "    twitter_archive_master.drop(columns=[column],inplace=True)\n",
    "    return twitter_archive_master.shape"
   ]
  },
  {
   "cell_type": "markdown",
   "metadata": {},
   "source": [
    "#### Test"
   ]
  },
  {
   "cell_type": "code",
   "execution_count": 45,
   "metadata": {},
   "outputs": [
    {
     "data": {
      "text/plain": [
       "(1994, 51)"
      ]
     },
     "execution_count": 45,
     "metadata": {},
     "output_type": "execute_result"
    }
   ],
   "source": [
    "drop_unoriginal('retweeted_status_id')"
   ]
  },
  {
   "cell_type": "markdown",
   "metadata": {},
   "source": [
    "##### Removing replies to tweets from dataset"
   ]
  },
  {
   "cell_type": "markdown",
   "metadata": {
    "collapsed": true,
    "extensions": {
     "jupyter_dashboards": {
      "version": 1,
      "views": {
       "grid_default": {
        "hidden": true
       },
       "report_default": {
        "hidden": true
       }
      }
     }
    }
   },
   "source": [
    "#### Define\n",
    "Finding the index of rows with 'in_reply_to_status_id' not null and removing such rows as they are not original tweets."
   ]
  },
  {
   "cell_type": "markdown",
   "metadata": {},
   "source": [
    "#### Test"
   ]
  },
  {
   "cell_type": "code",
   "execution_count": 46,
   "metadata": {},
   "outputs": [
    {
     "data": {
      "text/plain": [
       "(1971, 50)"
      ]
     },
     "execution_count": 46,
     "metadata": {},
     "output_type": "execute_result"
    }
   ],
   "source": [
    "drop_unoriginal('in_reply_to_status_id')"
   ]
  },
  {
   "cell_type": "markdown",
   "metadata": {},
   "source": [
    "##### Removing quoted tweets from dataset"
   ]
  },
  {
   "cell_type": "markdown",
   "metadata": {
    "collapsed": true,
    "extensions": {
     "jupyter_dashboards": {
      "version": 1,
      "views": {
       "grid_default": {
        "hidden": true
       },
       "report_default": {
        "hidden": true
       }
      }
     }
    }
   },
   "source": [
    "#### Define\n",
    "Finding the index of rows with quoted_status_id' not null and removing such rows"
   ]
  },
  {
   "cell_type": "markdown",
   "metadata": {},
   "source": [
    "### Test"
   ]
  },
  {
   "cell_type": "code",
   "execution_count": 47,
   "metadata": {},
   "outputs": [
    {
     "data": {
      "text/plain": [
       "(1971, 49)"
      ]
     },
     "execution_count": 47,
     "metadata": {},
     "output_type": "execute_result"
    }
   ],
   "source": [
    "drop_unoriginal('quoted_status_id')"
   ]
  },
  {
   "cell_type": "code",
   "execution_count": 48,
   "metadata": {},
   "outputs": [
    {
     "data": {
      "text/html": [
       "<div>\n",
       "<style scoped>\n",
       "    .dataframe tbody tr th:only-of-type {\n",
       "        vertical-align: middle;\n",
       "    }\n",
       "\n",
       "    .dataframe tbody tr th {\n",
       "        vertical-align: top;\n",
       "    }\n",
       "\n",
       "    .dataframe thead th {\n",
       "        text-align: right;\n",
       "    }\n",
       "</style>\n",
       "<table border=\"1\" class=\"dataframe\">\n",
       "  <thead>\n",
       "    <tr style=\"text-align: right;\">\n",
       "      <th></th>\n",
       "      <th>tweet_id</th>\n",
       "      <th>in_reply_to_user_id</th>\n",
       "      <th>timestamp</th>\n",
       "      <th>source</th>\n",
       "      <th>text</th>\n",
       "      <th>retweeted_status_user_id</th>\n",
       "      <th>retweeted_status_timestamp</th>\n",
       "      <th>expanded_urls</th>\n",
       "      <th>rating_numerator</th>\n",
       "      <th>rating_denominator</th>\n",
       "      <th>...</th>\n",
       "      <th>p1_conf</th>\n",
       "      <th>p1_dog</th>\n",
       "      <th>p2</th>\n",
       "      <th>p2_conf</th>\n",
       "      <th>p2_dog</th>\n",
       "      <th>p3</th>\n",
       "      <th>p3_conf</th>\n",
       "      <th>p3_dog</th>\n",
       "      <th>stage</th>\n",
       "      <th>source_device</th>\n",
       "    </tr>\n",
       "  </thead>\n",
       "  <tbody>\n",
       "    <tr>\n",
       "      <th>2025</th>\n",
       "      <td>666817836334096384</td>\n",
       "      <td>NaN</td>\n",
       "      <td>2015-11-18 03:18:55</td>\n",
       "      <td>&lt;a href=\"http://twitter.com/download/iphone\" r...</td>\n",
       "      <td>This is Jeph. He is a German Boston Shuttlecoc...</td>\n",
       "      <td>NaN</td>\n",
       "      <td>NaT</td>\n",
       "      <td>https://twitter.com/dog_rates/status/666817836...</td>\n",
       "      <td>9</td>\n",
       "      <td>10</td>\n",
       "      <td>...</td>\n",
       "      <td>0.496953</td>\n",
       "      <td>True</td>\n",
       "      <td>standard_schnauzer</td>\n",
       "      <td>0.285276</td>\n",
       "      <td>True</td>\n",
       "      <td>giant_schnauzer</td>\n",
       "      <td>0.073764</td>\n",
       "      <td>True</td>\n",
       "      <td>None</td>\n",
       "      <td>Twitter for iPhone</td>\n",
       "    </tr>\n",
       "  </tbody>\n",
       "</table>\n",
       "<p>1 rows × 49 columns</p>\n",
       "</div>"
      ],
      "text/plain": [
       "                tweet_id in_reply_to_user_id           timestamp  \\\n",
       "2025  666817836334096384                 NaN 2015-11-18 03:18:55   \n",
       "\n",
       "                                                 source  \\\n",
       "2025  <a href=\"http://twitter.com/download/iphone\" r...   \n",
       "\n",
       "                                                   text  \\\n",
       "2025  This is Jeph. He is a German Boston Shuttlecoc...   \n",
       "\n",
       "     retweeted_status_user_id retweeted_status_timestamp  \\\n",
       "2025                      NaN                        NaT   \n",
       "\n",
       "                                          expanded_urls  rating_numerator  \\\n",
       "2025  https://twitter.com/dog_rates/status/666817836...                 9   \n",
       "\n",
       "      rating_denominator  ...   p1_conf p1_dog                  p2   p2_conf  \\\n",
       "2025                  10  ...  0.496953   True  standard_schnauzer  0.285276   \n",
       "\n",
       "     p2_dog               p3   p3_conf p3_dog stage       source_device  \n",
       "2025   True  giant_schnauzer  0.073764   True  None  Twitter for iPhone  \n",
       "\n",
       "[1 rows x 49 columns]"
      ]
     },
     "execution_count": 48,
     "metadata": {},
     "output_type": "execute_result"
    }
   ],
   "source": [
    "twitter_archive_master.sample()"
   ]
  },
  {
   "cell_type": "markdown",
   "metadata": {},
   "source": [
    "### Category #3: Completeness: Too many redundant columns such as 'geo','coordinates',etc containing more than 90% null values"
   ]
  },
  {
   "cell_type": "markdown",
   "metadata": {
    "collapsed": true,
    "extensions": {
     "jupyter_dashboards": {
      "version": 1,
      "views": {
       "grid_default": {
        "hidden": true
       },
       "report_default": {
        "hidden": true
       }
      }
     }
    }
   },
   "source": [
    "#### Define\n",
    "Using a for loop to loop through all columns and remove columns with more than 90% null values"
   ]
  },
  {
   "cell_type": "markdown",
   "metadata": {},
   "source": [
    "#### Code"
   ]
  },
  {
   "cell_type": "code",
   "execution_count": 49,
   "metadata": {},
   "outputs": [],
   "source": [
    "columns=['tweet_id', 'in_reply_to_user_id', 'timestamp', 'source', 'text',\n",
    "       'retweeted_status_user_id', 'retweeted_status_timestamp',\n",
    "       'expanded_urls', 'rating_numerator', 'rating_denominator', 'name',\n",
    "       'id_str', 'full_text', 'truncated', 'display_text_range', 'entities',\n",
    "       'extended_entities', 'in_reply_to_status_id_str',\n",
    "       'in_reply_to_user_id_str', 'in_reply_to_screen_name', 'user', 'geo',\n",
    "       'coordinates', 'place', 'contributors', 'is_quote_status',\n",
    "       'retweet_count', 'favorite_count', 'favorited', 'retweeted',\n",
    "       'possibly_sensitive', 'possibly_sensitive_appealable', 'lang',\n",
    "       'retweeted_status', 'quoted_status_id_str', 'quoted_status', 'jpg_url',\n",
    "       'img_num', 'p1', 'p1_conf', 'p1_dog', 'p2', 'p2_conf', 'p2_dog', 'p3',\n",
    "       'p3_conf', 'p3_dog', 'stage', 'source_device']\n",
    "\n",
    "for col in columns:\n",
    "    if twitter_archive_master[col].isnull().sum()!=0:\n",
    "        twitter_archive_master.drop(columns=[col],inplace=True)"
   ]
  },
  {
   "cell_type": "markdown",
   "metadata": {},
   "source": [
    "##### 'full_text' and 'text' columns are duplicates of each other so 'full_text' needs to be dropped and some other redundant columns"
   ]
  },
  {
   "cell_type": "code",
   "execution_count": 50,
   "metadata": {},
   "outputs": [],
   "source": [
    "twitter_archive_master.drop(columns=['id_str', 'full_text',\n",
    "       'truncated', 'display_text_range', 'entities', 'extended_entities', 'user', 'is_quote_status',\n",
    "       'favorited', 'retweeted', 'possibly_sensitive',\n",
    "       'possibly_sensitive_appealable', 'lang'],inplace=True)"
   ]
  },
  {
   "cell_type": "markdown",
   "metadata": {},
   "source": [
    "### Test"
   ]
  },
  {
   "cell_type": "code",
   "execution_count": 51,
   "metadata": {},
   "outputs": [
    {
     "data": {
      "text/plain": [
       "(1971, 23)"
      ]
     },
     "execution_count": 51,
     "metadata": {},
     "output_type": "execute_result"
    }
   ],
   "source": [
    "twitter_archive_master.shape"
   ]
  },
  {
   "cell_type": "code",
   "execution_count": 52,
   "metadata": {
    "scrolled": false
   },
   "outputs": [
    {
     "name": "stdout",
     "output_type": "stream",
     "text": [
      "<class 'pandas.core.frame.DataFrame'>\n",
      "Int64Index: 1971 entries, 0 to 2072\n",
      "Data columns (total 23 columns):\n",
      " #   Column              Non-Null Count  Dtype         \n",
      "---  ------              --------------  -----         \n",
      " 0   tweet_id            1971 non-null   object        \n",
      " 1   timestamp           1971 non-null   datetime64[ns]\n",
      " 2   source              1971 non-null   object        \n",
      " 3   text                1971 non-null   object        \n",
      " 4   expanded_urls       1971 non-null   object        \n",
      " 5   rating_numerator    1971 non-null   int64         \n",
      " 6   rating_denominator  1971 non-null   int64         \n",
      " 7   name                1971 non-null   object        \n",
      " 8   retweet_count       1971 non-null   int64         \n",
      " 9   favorite_count      1971 non-null   int64         \n",
      " 10  jpg_url             1971 non-null   object        \n",
      " 11  img_num             1971 non-null   int64         \n",
      " 12  p1                  1971 non-null   object        \n",
      " 13  p1_conf             1971 non-null   float64       \n",
      " 14  p1_dog              1971 non-null   bool          \n",
      " 15  p2                  1971 non-null   object        \n",
      " 16  p2_conf             1971 non-null   float64       \n",
      " 17  p2_dog              1971 non-null   bool          \n",
      " 18  p3                  1971 non-null   object        \n",
      " 19  p3_conf             1971 non-null   float64       \n",
      " 20  p3_dog              1971 non-null   bool          \n",
      " 21  stage               1971 non-null   object        \n",
      " 22  source_device       1971 non-null   object        \n",
      "dtypes: bool(3), datetime64[ns](1), float64(3), int64(5), object(11)\n",
      "memory usage: 393.7+ KB\n"
     ]
    }
   ],
   "source": [
    "twitter_archive_master.info()"
   ]
  },
  {
   "cell_type": "markdown",
   "metadata": {},
   "source": [
    "### Category #4: Accuracy"
   ]
  },
  {
   "cell_type": "markdown",
   "metadata": {},
   "source": [
    "##### 'name' column in the twitter_archive table contains 'a','an' and 'the' for dogs with no names "
   ]
  },
  {
   "cell_type": "markdown",
   "metadata": {
    "collapsed": true,
    "extensions": {
     "jupyter_dashboards": {
      "version": 1,
      "views": {
       "grid_default": {
        "hidden": true
       },
       "report_default": {
        "hidden": true
       }
      }
     }
    }
   },
   "source": [
    "#### Define\n",
    "Finding the index of rows with wrong names instead of None and changing the wrong names to None."
   ]
  },
  {
   "cell_type": "markdown",
   "metadata": {},
   "source": [
    "#### Code"
   ]
  },
  {
   "cell_type": "code",
   "execution_count": 53,
   "metadata": {},
   "outputs": [],
   "source": [
    "wrong_namesIndex=twitter_archive_master[twitter_archive_master.name.str.islower()==True].index"
   ]
  },
  {
   "cell_type": "code",
   "execution_count": 54,
   "metadata": {},
   "outputs": [],
   "source": [
    "twitter_archive_master.drop(wrong_namesIndex,axis=0,inplace=True)"
   ]
  },
  {
   "cell_type": "markdown",
   "metadata": {},
   "source": [
    "#### Test"
   ]
  },
  {
   "cell_type": "code",
   "execution_count": 55,
   "metadata": {},
   "outputs": [
    {
     "data": {
      "text/plain": [
       "(1873, 23)"
      ]
     },
     "execution_count": 55,
     "metadata": {},
     "output_type": "execute_result"
    }
   ],
   "source": [
    "twitter_archive_master.shape"
   ]
  },
  {
   "cell_type": "markdown",
   "metadata": {},
   "source": [
    "##### Innacurate rating_numerator and rating_denominator"
   ]
  },
  {
   "cell_type": "markdown",
   "metadata": {
    "collapsed": true,
    "extensions": {
     "jupyter_dashboards": {
      "version": 1,
      "views": {
       "grid_default": {
        "hidden": true
       },
       "report_default": {
        "hidden": true
       }
      }
     }
    }
   },
   "source": [
    "#### Define\n",
    "Extracting correct rating_numerator and rating_denominator from 'text'column"
   ]
  },
  {
   "cell_type": "markdown",
   "metadata": {},
   "source": [
    "#### Code"
   ]
  },
  {
   "cell_type": "code",
   "execution_count": 56,
   "metadata": {},
   "outputs": [],
   "source": [
    "response=[]\n",
    "num=[]\n",
    "den=[]\n",
    "for text in twitter_archive_master.text:\n",
    "    res = re.findall('[0-9]+', text)\n",
    "    response.append(res)\n",
    "\n",
    "\n",
    "for list in response:\n",
    "    x=list[0]\n",
    "    y=list[1]\n",
    "    num.append(x)\n",
    "    den.append(y)\n",
    "\n",
    "twitter_archive_master['rating_numerator']=num\n",
    "twitter_archive_master['rating_denominator']=den\n",
    "\n",
    "twitter_archive_master.rating_denominator=twitter_archive_master.rating_denominator.astype('int64')\n",
    "twitter_archive_master.rating_numerator=twitter_archive_master.rating_numerator.astype('int64')"
   ]
  },
  {
   "cell_type": "markdown",
   "metadata": {},
   "source": [
    "#### Test"
   ]
  },
  {
   "cell_type": "code",
   "execution_count": 57,
   "metadata": {},
   "outputs": [
    {
     "name": "stdout",
     "output_type": "stream",
     "text": [
      "<class 'pandas.core.frame.DataFrame'>\n",
      "Int64Index: 1873 entries, 0 to 2072\n",
      "Data columns (total 23 columns):\n",
      " #   Column              Non-Null Count  Dtype         \n",
      "---  ------              --------------  -----         \n",
      " 0   tweet_id            1873 non-null   object        \n",
      " 1   timestamp           1873 non-null   datetime64[ns]\n",
      " 2   source              1873 non-null   object        \n",
      " 3   text                1873 non-null   object        \n",
      " 4   expanded_urls       1873 non-null   object        \n",
      " 5   rating_numerator    1873 non-null   int64         \n",
      " 6   rating_denominator  1873 non-null   int64         \n",
      " 7   name                1873 non-null   object        \n",
      " 8   retweet_count       1873 non-null   int64         \n",
      " 9   favorite_count      1873 non-null   int64         \n",
      " 10  jpg_url             1873 non-null   object        \n",
      " 11  img_num             1873 non-null   int64         \n",
      " 12  p1                  1873 non-null   object        \n",
      " 13  p1_conf             1873 non-null   float64       \n",
      " 14  p1_dog              1873 non-null   bool          \n",
      " 15  p2                  1873 non-null   object        \n",
      " 16  p2_conf             1873 non-null   float64       \n",
      " 17  p2_dog              1873 non-null   bool          \n",
      " 18  p3                  1873 non-null   object        \n",
      " 19  p3_conf             1873 non-null   float64       \n",
      " 20  p3_dog              1873 non-null   bool          \n",
      " 21  stage               1873 non-null   object        \n",
      " 22  source_device       1873 non-null   object        \n",
      "dtypes: bool(3), datetime64[ns](1), float64(3), int64(5), object(11)\n",
      "memory usage: 312.8+ KB\n"
     ]
    }
   ],
   "source": [
    "twitter_archive_master.info()"
   ]
  },
  {
   "cell_type": "markdown",
   "metadata": {},
   "source": [
    "## Storing Data\n",
    "In this section, the gathered, assessed, and cleaned master dataset will be saved into a CSV file named \"twitter_archive_master.csv\"."
   ]
  },
  {
   "cell_type": "code",
   "execution_count": 58,
   "metadata": {},
   "outputs": [],
   "source": [
    "twitter_archive_master.to_csv('twitter_archive_master.csv',index=False)"
   ]
  },
  {
   "cell_type": "markdown",
   "metadata": {},
   "source": [
    "## Analyzing and Visualizing Data\n",
    "In this section, analyze and visualize your wrangled data. You must produce at least **three (3) insights and one (1) visualization.**"
   ]
  },
  {
   "cell_type": "code",
   "execution_count": 59,
   "metadata": {},
   "outputs": [],
   "source": [
    "#splitting features into numerical and categorical\n",
    "numeric_features=['rating_numerator', 'rating_denominator', 'retweet_count',\n",
    "       'favorite_count', 'img_num', 'p1_conf', \n",
    "       'p2_conf', 'p3_conf']\n",
    "\n",
    "categorical_features=['name','jpg_url', 'p1', 'p1_dog', 'p2',\n",
    "        'p2_dog', 'p3', 'p3_dog', 'stage','source_device']"
   ]
  },
  {
   "cell_type": "code",
   "execution_count": 60,
   "metadata": {
    "scrolled": false
   },
   "outputs": [
    {
     "data": {
      "image/png": "[encoded data removed]",
      "text/plain": [
       "<Figure size 1080x1080 with 64 Axes>"
      ]
     },
     "metadata": {},
     "output_type": "display_data"
    }
   ],
   "source": [
    "#scatter matrix of the numerical features\n",
    "pd.plotting.scatter_matrix(twitter_archive_master[numeric_features],figsize=[15,15]);"
   ]
  },
  {
   "cell_type": "markdown",
   "metadata": {},
   "source": [
    "### Insights:\n",
    "1. The dog stage with the highest average retweet is different from the dog stage with the highest average likes but not by much!\n",
    "\n",
    "\n",
    "2. Surprisingly, WeRateDogs twitter account mostly sent tweets from Iphones. You will be surprised at what they also tweet from!\n",
    "\n",
    "\n",
    "3. WeRateDogs mostly tweeted after midnight!!\n",
    "\n",
    "\n",
    "4. Not surprised! tweets with higher number of retweets tended to have more likes.\n",
    "\n",
    "\n",
    "5. Standard poodle had the highest number of likes per picture. "
   ]
  },
  {
   "cell_type": "markdown",
   "metadata": {
    "collapsed": true
   },
   "source": [
    "### Visualization"
   ]
  },
  {
   "cell_type": "markdown",
   "metadata": {},
   "source": [
    "### Question 1: How do the different dog stages compare in terms of retweets and likes"
   ]
  },
  {
   "cell_type": "code",
   "execution_count": 61,
   "metadata": {},
   "outputs": [],
   "source": [
    "twitter_sample=twitter_archive_master.query('stage!= \"None\"')"
   ]
  },
  {
   "cell_type": "code",
   "execution_count": 62,
   "metadata": {},
   "outputs": [],
   "source": [
    "def box(y):\n",
    "    plot=sns.boxplot(x='stage',y=y,data=twitter_sample)\n",
    "    plt.title('Stages by {}'.format(y))\n",
    "    #plt.savefig('box {}'.format(y))\n",
    "    return plot"
   ]
  },
  {
   "cell_type": "code",
   "execution_count": 63,
   "metadata": {},
   "outputs": [
    {
     "data": {
      "image/png": "[encoded data removed]",
      "text/plain": [
       "<Figure size 1080x576 with 1 Axes>"
      ]
     },
     "metadata": {},
     "output_type": "display_data"
    }
   ],
   "source": [
    "box('retweet_count');"
   ]
  },
  {
   "cell_type": "code",
   "execution_count": 64,
   "metadata": {},
   "outputs": [
    {
     "data": {
      "image/png": "[encoded data removed]",
      "text/plain": [
       "<Figure size 1080x576 with 1 Axes>"
      ]
     },
     "metadata": {},
     "output_type": "display_data"
    }
   ],
   "source": [
    "box(\"favorite_count\");"
   ]
  },
  {
   "cell_type": "code",
   "execution_count": 65,
   "metadata": {},
   "outputs": [],
   "source": [
    "def barplot(column):\n",
    "    plot=twitter_sample.groupby('stage').mean()[column].sort_values().plot(kind='barh')\n",
    "    plt.xlabel('Average {}'.format(column))\n",
    "    plt.title('Average {} by stages'.format(column))\n",
    "    #plt.savefig('bar {}'.format(column))\n",
    "    return plot"
   ]
  },
  {
   "cell_type": "code",
   "execution_count": 66,
   "metadata": {},
   "outputs": [
    {
     "data": {
      "image/png": "[encoded data removed]",
      "text/plain": [
       "<Figure size 1080x576 with 1 Axes>"
      ]
     },
     "metadata": {},
     "output_type": "display_data"
    }
   ],
   "source": [
    "barplot('retweet_count');"
   ]
  },
  {
   "cell_type": "code",
   "execution_count": 67,
   "metadata": {},
   "outputs": [
    {
     "data": {
      "image/png": "[encoded data removed]",
      "text/plain": [
       "<Figure size 1080x576 with 1 Axes>"
      ]
     },
     "metadata": {},
     "output_type": "display_data"
    }
   ],
   "source": [
    "barplot('favorite_count');"
   ]
  },
  {
   "cell_type": "markdown",
   "metadata": {},
   "source": [
    "##### Doggo had more average retweets than any other dog stage while puppo had the highest average likes than any other dog but notice how doggo came in second."
   ]
  },
  {
   "cell_type": "markdown",
   "metadata": {},
   "source": [
    "### Question 2: From what devices does the WeRateDogs account mostly tweet from?"
   ]
  },
  {
   "cell_type": "code",
   "execution_count": 68,
   "metadata": {},
   "outputs": [
    {
     "data": {
      "text/plain": [
       "<AxesSubplot:>"
      ]
     },
     "execution_count": 68,
     "metadata": {},
     "output_type": "execute_result"
    },
    {
     "data": {
      "image/png": "[encoded data removed]",
      "text/plain": [
       "<Figure size 1080x576 with 1 Axes>"
      ]
     },
     "metadata": {},
     "output_type": "display_data"
    }
   ],
   "source": [
    "twitter_archive_master['source_device'].value_counts().plot(kind='bar')\n",
    "#plt.savefig('source_device');"
   ]
  },
  {
   "cell_type": "markdown",
   "metadata": {},
   "source": [
    "##### More than 80% of the tweets came from Iphones , followed by web client and finally deck! Iphones are known for their great picture quality!!!"
   ]
  },
  {
   "cell_type": "markdown",
   "metadata": {},
   "source": [
    "### What time does the WeRateDogs twitter account mostly tweet?"
   ]
  },
  {
   "cell_type": "code",
   "execution_count": 69,
   "metadata": {},
   "outputs": [],
   "source": [
    "twitter_copy=twitter_archive_master.copy()"
   ]
  },
  {
   "cell_type": "code",
   "execution_count": 70,
   "metadata": {},
   "outputs": [
    {
     "data": {
      "text/plain": [
       "datetime.time(16, 23, 56)"
      ]
     },
     "execution_count": 70,
     "metadata": {},
     "output_type": "execute_result"
    }
   ],
   "source": [
    "for time in twitter_copy['timestamp']:\n",
    "    t=time.time()\n",
    "twitter_copy['timestamp'][0].time()"
   ]
  },
  {
   "cell_type": "code",
   "execution_count": 71,
   "metadata": {},
   "outputs": [],
   "source": [
    "twitter_copy['time']=twitter_copy['timestamp'].astype(str).str.split(\" \",expand=True)[1]\n",
    "twitter_copy['time']=twitter_copy['time'].astype(str).str.split(\":\",expand=True)[0]"
   ]
  },
  {
   "cell_type": "code",
   "execution_count": 72,
   "metadata": {},
   "outputs": [
    {
     "data": {
      "text/plain": [
       "Text(0, 0.5, 'Count of Tweets')"
      ]
     },
     "execution_count": 72,
     "metadata": {},
     "output_type": "execute_result"
    },
    {
     "data": {
      "image/png": "[encoded data removed]",
      "text/plain": [
       "<Figure size 1080x576 with 1 Axes>"
      ]
     },
     "metadata": {},
     "output_type": "display_data"
    }
   ],
   "source": [
    "twitter_copy['time'].value_counts().sort_index().plot()\n",
    "plt.title('Time vs Count of tweets')\n",
    "plt.xlabel(\"Time\")\n",
    "plt.ylabel(\"Count of Tweets\")\n",
    "#plt.savefig('Time_count');\n"
   ]
  },
  {
   "cell_type": "markdown",
   "metadata": {},
   "source": [
    "##### Most tweets came after midnight and ther is a sudden decline showing little or no tweet from 5am till the afternoon ... "
   ]
  },
  {
   "cell_type": "markdown",
   "metadata": {},
   "source": [
    "### Question 4: What characteristics are mostly associated with high likes?"
   ]
  },
  {
   "cell_type": "code",
   "execution_count": 73,
   "metadata": {},
   "outputs": [
    {
     "data": {
      "text/plain": [
       "9100.905499199145"
      ]
     },
     "execution_count": 73,
     "metadata": {},
     "output_type": "execute_result"
    }
   ],
   "source": [
    "mean_likes=twitter_archive_master['favorite_count'].mean()\n",
    "mean_likes"
   ]
  },
  {
   "cell_type": "code",
   "execution_count": 74,
   "metadata": {},
   "outputs": [],
   "source": [
    "#splitting the data into low and high likes \n",
    "twitter_high=twitter_archive_master.query('favorite_count >= 9100')\n",
    "twitter_low=twitter_archive_master.query('favorite_count<9100')"
   ]
  },
  {
   "cell_type": "code",
   "execution_count": 75,
   "metadata": {},
   "outputs": [],
   "source": [
    "def plot(col):\n",
    "    plt.scatter(x=col,y=\"favorite_count\",data=twitter_high, label='high likes')\n",
    "    plt.scatter(x=col,y=\"favorite_count\",data=twitter_low,label='low likes')\n",
    "    correl=twitter_archive_master[col].corr(twitter_archive_master['favorite_count']).round(3)\n",
    "    plt.title(f'Correlation between {col} and favorite_count is {correl}')\n",
    "    plt.legend()\n",
    "    #plt.savefig('plot {}'.format(col))"
   ]
  },
  {
   "cell_type": "code",
   "execution_count": 76,
   "metadata": {},
   "outputs": [
    {
     "data": {
      "image/png": "[encoded data removed]",
      "text/plain": [
       "<Figure size 1080x576 with 1 Axes>"
      ]
     },
     "metadata": {},
     "output_type": "display_data"
    }
   ],
   "source": [
    "plot('rating_numerator')"
   ]
  },
  {
   "cell_type": "code",
   "execution_count": 77,
   "metadata": {
    "scrolled": false
   },
   "outputs": [
    {
     "data": {
      "image/png": "[encoded data removed]",
      "text/plain": [
       "<Figure size 1080x576 with 1 Axes>"
      ]
     },
     "metadata": {},
     "output_type": "display_data"
    }
   ],
   "source": [
    "plot('rating_denominator')"
   ]
  },
  {
   "cell_type": "code",
   "execution_count": 78,
   "metadata": {
    "scrolled": false
   },
   "outputs": [
    {
     "data": {
      "image/png": "[encoded data removed]",
      "text/plain": [
       "<Figure size 1080x576 with 1 Axes>"
      ]
     },
     "metadata": {},
     "output_type": "display_data"
    }
   ],
   "source": [
    "plot('retweet_count')"
   ]
  },
  {
   "cell_type": "markdown",
   "metadata": {},
   "source": [
    "##### From the scatter plot of numerical features against likes, retweets had the highest correlation and showed more relationship than the others."
   ]
  },
  {
   "cell_type": "code",
   "execution_count": 79,
   "metadata": {
    "scrolled": false
   },
   "outputs": [
    {
     "data": {
      "image/png": "[encoded data removed]",
      "text/plain": [
       "<Figure size 1080x576 with 1 Axes>"
      ]
     },
     "metadata": {},
     "output_type": "display_data"
    }
   ],
   "source": [
    "twitter_high.query('p1_dog==True').groupby('p1').mean()['favorite_count'].sort_values(ascending=False).head().plot(kind='bar');\n",
    "#plt.savefig('breeds')"
   ]
  },
  {
   "cell_type": "markdown",
   "metadata": {},
   "source": [
    "##### Of course standard_poodle!!! This breed is known for being a family dog and very cute! One thing to note is that most of them in the top 5 are good family dogs"
   ]
  },
  {
   "cell_type": "code",
   "execution_count": null,
   "metadata": {},
   "outputs": [],
   "source": []
  }
 ],
 "metadata": {
  "extensions": {
   "jupyter_dashboards": {
    "activeView": "report_default",
    "version": 1,
    "views": {
     "grid_default": {
      "cellMargin": 10,
      "defaultCellHeight": 20,
      "maxColumns": 12,
      "name": "grid",
      "type": "grid"
     },
     "report_default": {
      "name": "report",
      "type": "report"
     }
    }
   }
  },
  "kernelspec": {
   "display_name": "Python 3.10.6 64-bit (windows store)",
   "language": "python",
   "name": "python3"
  },
  "language_info": {
   "codemirror_mode": {
    "name": "ipython",
    "version": 3
   },
   "file_extension": ".py",
   "mimetype": "text/x-python",
   "name": "python",
   "nbconvert_exporter": "python",
   "pygments_lexer": "ipython3",
   "version": "3.10.6"
  },
  "vscode": {
   "interpreter": {
    "hash": "3b7e9cb8e453d6cda0fe8c8dd13f891a1f09162f0e7c66ffeae7751a7aecf00d"
   }
  }
 },
 "nbformat": 4,
 "nbformat_minor": 2
}
